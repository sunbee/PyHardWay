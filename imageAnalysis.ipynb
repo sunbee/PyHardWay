{
 "cells": [
  {
   "cell_type": "code",
   "execution_count": 110,
   "metadata": {},
   "outputs": [],
   "source": [
    "# Service requests require credentials\n",
    "#     Google has classified service request from local machine as server-to-server.\n",
    "#     I have downloaded credentials as a json file to local machine. Here, I create\n",
    "#     a credentials object by supplying the downloaded file.\n",
    "from google.oauth2 import service_account\n",
    "\n",
    "SCOPES = ['https://www.googleapis.com/auth/cloud-platform']\n",
    "SERVICE_ACCOUNT_FILE = 'vision_fission.json'\n",
    "\n",
    "credentials = service_account.Credentials.from_service_account_file(\n",
    "        SERVICE_ACCOUNT_FILE, scopes=SCOPES)\n",
    "\n",
    "# Also note: From https://console.developers.google.com/\n",
    "# 1. A capsule of work is a project.\n",
    "# 2. Services need to be enabled for a project.\n",
    "# 3. Billing needs to be enabled for a project with valid Credit Card.\n",
    "# Else, NO GO!\n",
    "\n",
    "# Ref: https://google-cloud-python.readthedocs.io/en/latest/vision/index.html"
   ]
  },
  {
   "cell_type": "code",
   "execution_count": 111,
   "metadata": {},
   "outputs": [],
   "source": [
    "# Create a client object for a specific service and\n",
    "# pass it credentials. Ensure that you have satisfied\n",
    "# all conditions noted above. \n",
    "# Service methods are invoked using the client object.\n",
    "import io\n",
    "import os\n",
    "from google.cloud import vision\n",
    "from google.cloud.vision import types\n",
    "\n",
    "client = vision.ImageAnnotatorClient(\n",
    "    credentials=credentials\n",
    ")\n",
    "\n",
    "# Ref: https://google-cloud-python.readthedocs.io/en/latest/vision/index.html"
   ]
  },
  {
   "cell_type": "code",
   "execution_count": 112,
   "metadata": {},
   "outputs": [],
   "source": [
    "# There is the triumvirate of \n",
    "# 1. Input (image file)\n",
    "# 2. Service (vision client)\n",
    "# 3. Output (json)\n",
    "# Ingest the image file with io\n",
    "file_name = 'sunbeam.JPG'\n",
    "\n",
    "with io.open(file_name, 'rb') as image_file:\n",
    "    content = image_file.read()\n",
    "\n",
    "image = types.Image(content=content)\n",
    "\n",
    "# Ref: https://cloud.google.com/vision/docs/libraries#client-libraries-install-python"
   ]
  },
  {
   "cell_type": "code",
   "execution_count": null,
   "metadata": {},
   "outputs": [],
   "source": [
    "# Make the service call and see what's in the response.\n",
    "response = client.label_detection(image=image)\n",
    "response"
   ]
  },
  {
   "cell_type": "code",
   "execution_count": null,
   "metadata": {},
   "outputs": [],
   "source": [
    "response = client.annotate_image({\n",
    "    'image': image, #{'source': {'image_uri': '.\\my-test-bucket\\sunbeam.jpg'}},\n",
    "    'features': [{'type': vision.enums.Feature.Type.FACE_DETECTION}],\n",
    "})\n",
    "response"
   ]
  },
  {
   "cell_type": "code",
   "execution_count": null,
   "metadata": {},
   "outputs": [],
   "source": [
    "def show_results(inputfile, data, outputfile):\n",
    "    #read original file\n",
    "    im = read_image(inputfile)\n",
    "    \n",
    "    #draw face, boxes and text for each response\n",
    "    for r in data['responses']:\n",
    "        if 'faceAnnotations' in r:\n",
    "            draw_face(im, r['faceAnnotations'])\n",
    "        \n",
    "        if 'labelAnnotations' in r:\n",
    "            strs = map(lambda a: a['description'], r['labelAnnotations'])\n",
    "            im = draw_text(im, \", \".join(strs))\n",
    "            \n",
    "        for field in ['textAnnotations', 'logoAnnotations']:\n",
    "            if field in r:\n",
    "                for a in r[field]:\n",
    "                    draw_box(im, a['boundingPoly']['vertices'])\n",
    "\n",
    "    #save to output file\n",
    "    save_image(outputfile, im)"
   ]
  }
 ],
 "metadata": {
  "kernelspec": {
   "display_name": "Python 2",
   "language": "python",
   "name": "python2"
  },
  "language_info": {
   "codemirror_mode": {
    "name": "ipython",
    "version": 2
   },
   "file_extension": ".py",
   "mimetype": "text/x-python",
   "name": "python",
   "nbconvert_exporter": "python",
   "pygments_lexer": "ipython2",
   "version": "2.7.14"
  }
 },
 "nbformat": 4,
 "nbformat_minor": 2
}
