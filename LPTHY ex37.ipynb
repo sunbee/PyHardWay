{
 "cells": [
  {
   "cell_type": "code",
   "execution_count": 1,
   "metadata": {},
   "outputs": [
    {
     "name": "stdout",
     "output_type": "stream",
     "text": [
      "\n",
      "count=0\n",
      "while count < 9:\n",
      "    count += 1\n",
      "What does 'count == 9' evaluate to [True/False]? True\n",
      "The correct answer is <True> and your wrote <True>\n"
     ]
    }
   ],
   "source": [
    "def binaryChoice(test, pre=None):\n",
    "#   pre: is a block of code that sets up the problem\n",
    "#   que: is the quiz around a test expression that evaluates to True/False\n",
    "#   ans: is the player's answer, True/False\n",
    "#   eva: is the evaluation \n",
    "# Function has the boilerplate in which to plug \"pre\" and \"test\" as in the example.\n",
    "    que = \"\"\n",
    "    if pre is not None:\n",
    "        exec(pre)\n",
    "        que += pre\n",
    "    que += \"What does %r evaluate to [True/False]? \" % test\n",
    "    ans = raw_input(que)\n",
    "    ans = {\n",
    "        'True': True,\n",
    "        'False': False\n",
    "    }.get(ans, None)\n",
    "    if ans is None:\n",
    "        print \"Not a meaningul answer for a true or false question.\"\n",
    "    else:\n",
    "        print \"The correct answer is <%r> and your wrote <%r>\" % (eval(test), ans)\n",
    "      \n",
    "# Sample\n",
    "# pre should be executable block of code\n",
    "pre = \"\"\"\n",
    "count=0\n",
    "while count < 9:\n",
    "    count += 1\n",
    "\"\"\"\n",
    "# test expression should evaluate to True/False\n",
    "test = \"count == 9\"\n",
    "#\n",
    "binaryChoice(test, pre)"
   ]
  },
  {
   "cell_type": "code",
   "execution_count": 25,
   "metadata": {},
   "outputs": [
    {
     "name": "stdout",
     "output_type": "stream",
     "text": [
      "\n",
      "zoo = [\"elephant\", \"hippopotamus\", \"penguin\"]\n",
      "del zoo[1]\n",
      "zoo\n",
      "\n",
      "What does the code snippet do? \n",
      "['A'] ['elephant', 'penguin']\n",
      "['C'] 'Error'\n",
      "['B'] ['hippopotamus', 'penguin']\n",
      "> X\n",
      "\n",
      "You have not entered a meaningful response.\n"
     ]
    }
   ],
   "source": [
    "def multipleChoice(mul, pre=None, run=False):\n",
    "#   pre: is a block of code that sets up the problem\n",
    "#   que: is the quiz with multiple choice response \n",
    "#   ans: is the player's answer, True/False\n",
    "#   eva: is the evaluation \n",
    "# Function has the boilerplate in which to plug \"pre\" and \"eva\" as in the example.\n",
    "    que = \"\"\n",
    "    if pre is not None:\n",
    "        if run:\n",
    "            exec(pre)\n",
    "        que += pre\n",
    "    que += \"\\nWhat does the code snippet do? \" \n",
    "    print que\n",
    "    for mul_ID, mul_string in mul.items():\n",
    "        print \"[%r] %r\" % (mul_ID, mul_string['dat'])\n",
    "    ans = raw_input(\"> \")\n",
    "    eva = mul.get(ans, {}).get('ans', {})\n",
    "    if eva == {}:\n",
    "        print \"\\nYou have not entered a meaningful response.\"\n",
    "    elif eva:\n",
    "        print \"\\nThat is the correct answer.\"\n",
    "    else:\n",
    "        print \"\\nThat is incorrect.\"\n",
    "\n",
    "# Sample\n",
    "# pre should be all the code you want to execute\n",
    "pre = \"\"\"\n",
    "zoo = [\"elephant\", \"hippopotamus\", \"penguin\"]\n",
    "del zoo[1]\n",
    "zoo\n",
    "\"\"\"\n",
    "# mul should have all options in multiple choice format\n",
    "mul = {\n",
    "    'A': {\n",
    "            'dat': [\"elephant\", \"penguin\"],\n",
    "            'ans': True\n",
    "    },\n",
    "    'B': {\n",
    "            'dat': [\"hippopotamus\", \"penguin\"],\n",
    "            'ans': False\n",
    "    },\n",
    "    'C': {\n",
    "            'dat': 'Error',\n",
    "            'ans': False\n",
    "    }\n",
    "}\n",
    " \n",
    "multipleChoice(mul=mul, pre=pre)"
   ]
  },
  {
   "cell_type": "code",
   "execution_count": 12,
   "metadata": {},
   "outputs": [
    {
     "name": "stdout",
     "output_type": "stream",
     "text": [
      "What does 'True and True' evaluate to [True/False]? True\n",
      "The correct answer is <True> and your wrote <True>\n"
     ]
    }
   ],
   "source": [
    "# and\n",
    "test = 'True and True'\n",
    "binaryChoice(test)"
   ]
  },
  {
   "cell_type": "code",
   "execution_count": 13,
   "metadata": {},
   "outputs": [
    {
     "name": "stdout",
     "output_type": "stream",
     "text": [
      "\n",
      "zoo = [\"elephant\", \"hippopotamus\", \"penguin\"]\n",
      "del zoo[1]\n",
      "zoo\n",
      "What does the code snippet do? \n",
      "['A'] ['elephant', 'penguin']\n",
      "['C'] 'Error'\n",
      "['B'] ['hippopotamus', 'penguin']\n",
      "> A\n",
      "That is the correct answer.\n"
     ]
    }
   ],
   "source": [
    "# del\n",
    "pre = \"\"\"\n",
    "zoo = [\"elephant\", \"hippopotamus\", \"penguin\"]\n",
    "del zoo[1]\n",
    "zoo\n",
    "\"\"\"\n",
    "mul = {\n",
    "    'A': {\n",
    "            'dat': [\"elephant\", \"penguin\"],\n",
    "            'ans': True\n",
    "    },\n",
    "    'B': {\n",
    "            'dat': [\"hippopotamus\", \"penguin\"],\n",
    "            'ans': False\n",
    "    },\n",
    "    'C': {\n",
    "            'dat': 'Error',\n",
    "            'ans': False\n",
    "    }\n",
    "}\n",
    "multipleChoice(mul=mul, pre=pre)"
   ]
  },
  {
   "cell_type": "code",
   "execution_count": 14,
   "metadata": {},
   "outputs": [
    {
     "name": "stdout",
     "output_type": "stream",
     "text": [
      "\n",
      "import random\n",
      "randy = random.randint(1, 9)\n",
      "What does 'randy < 9' evaluate to [True/False]? True\n",
      "The correct answer is <True> and your wrote <True>\n"
     ]
    }
   ],
   "source": [
    "# import\n",
    "pre = \"\"\"\n",
    "import random\n",
    "randy = random.randint(1, 9)\n",
    "\"\"\"\n",
    "test = \"randy < 9\"\n",
    "binaryChoice(test=test, pre=pre)"
   ]
  },
  {
   "cell_type": "code",
   "execution_count": 16,
   "metadata": {},
   "outputs": [
    {
     "name": "stdout",
     "output_type": "stream",
     "text": [
      "What does 'not False' evaluate to [True/False]? True\n",
      "The correct answer is <True> and your wrote <True>\n"
     ]
    }
   ],
   "source": [
    "# not\n",
    "test = 'not False'\n",
    "binaryChoice(test)"
   ]
  },
  {
   "cell_type": "code",
   "execution_count": 17,
   "metadata": {},
   "outputs": [
    {
     "name": "stdout",
     "output_type": "stream",
     "text": [
      "\n",
      "count=0\n",
      "while count < 9:\n",
      "    count += 1\n",
      "What does 'count == 9' evaluate to [True/False]? True\n",
      "The correct answer is <True> and your wrote <True>\n"
     ]
    }
   ],
   "source": [
    "# while\n",
    "pre = \"\"\"\n",
    "count=0\n",
    "while count < 9:\n",
    "    count += 1\n",
    "\"\"\"\n",
    "test = 'count == 9'\n",
    "binaryChoice(test=test, pre=pre)"
   ]
  },
  {
   "cell_type": "code",
   "execution_count": 18,
   "metadata": {},
   "outputs": [
    {
     "name": "stdout",
     "output_type": "stream",
     "text": [
      "\n",
      "import datetime as dt\n",
      "yyyymmdd = dt.date(1215, 06, 15)\n",
      "What does 'yyyymmdd.year == 1215' evaluate to [True/False]? True\n",
      "The correct answer is <True> and your wrote <True>\n"
     ]
    }
   ],
   "source": [
    "# as\n",
    "pre = \"\"\"\n",
    "import datetime as dt\n",
    "yyyymmdd = dt.date(1215, 06, 15)\n",
    "\"\"\"\n",
    "test = 'yyyymmdd.year == 1215'\n",
    "binaryChoice(test, pre)"
   ]
  },
  {
   "cell_type": "code",
   "execution_count": 27,
   "metadata": {},
   "outputs": [
    {
     "name": "stdout",
     "output_type": "stream",
     "text": [
      "\n",
      "Shogun = \"\"\n",
      "if 0:\n",
      "    Shogun = \"Oda\"\n",
      "elif -1:\n",
      "    Shogun = \"Ishida\"\n",
      "else: \n",
      "    Shogun = \"Tokugawa\"\n",
      "Shogun\n",
      "\n",
      "What does the code snippet do? \n",
      "['A'] 'Oda'\n",
      "['C'] 'Tokugawa'\n",
      "['B'] 'Ishida'\n",
      "> B\n",
      "\n",
      "That is the correct answer.\n"
     ]
    }
   ],
   "source": [
    "# elif\n",
    "pre = \"\"\"\n",
    "Shogun = \"\"\n",
    "if 0:\n",
    "    Shogun = \"Oda\"\n",
    "elif -1:\n",
    "    Shogun = \"Ishida\"\n",
    "else: \n",
    "    Shogun = \"Tokugawa\"\n",
    "Shogun\n",
    "\"\"\"\n",
    "mul = {\n",
    "    'A': {\n",
    "        'dat': \"Oda\",\n",
    "        'ans': False\n",
    "    },\n",
    "    'B': {\n",
    "        'dat': 'Ishida',\n",
    "        'ans': True\n",
    "    },\n",
    "    'C': {\n",
    "        'dat': 'Tokugawa',\n",
    "        'ans': False\n",
    "    }\n",
    "}\n",
    "multipleChoice(mul=mul, pre=pre)"
   ]
  },
  {
   "cell_type": "code",
   "execution_count": 28,
   "metadata": {},
   "outputs": [
    {
     "name": "stdout",
     "output_type": "stream",
     "text": [
      "\n",
      "gl = 0\n",
      "\n",
      "def set_gl(val):\n",
      "    global gl\n",
      "    gl = val\n",
      "\n",
      "def print_gl():\n",
      "    print gl\n",
      "    \n",
      "print_gl()\n",
      "set_gl(42)\n",
      "print_gl()\n",
      "\n",
      "What does the code snippet do? \n",
      "['A'] [0, 42]\n",
      "['C'] 'Error'\n",
      "['B'] [0, 0]\n",
      "> A\n",
      "\n",
      "That is the correct answer.\n"
     ]
    }
   ],
   "source": [
    "# global\n",
    "pre = \"\"\"\n",
    "gl = 0\n",
    "\n",
    "def set_gl(val):\n",
    "    global gl\n",
    "    gl = val\n",
    "\n",
    "def print_gl():\n",
    "    print gl\n",
    "    \n",
    "print_gl()\n",
    "set_gl(42)\n",
    "print_gl()\n",
    "\"\"\"\n",
    "mul = {\n",
    "    'A': {\n",
    "        'dat': [0, 42],\n",
    "        'ans': True\n",
    "    },\n",
    "    'B': {\n",
    "        'dat': [0, 0],\n",
    "        'ans': False\n",
    "    }, \n",
    "    'C': {\n",
    "        'dat': 'Error',\n",
    "        'ans': False\n",
    "    }\n",
    "}\n",
    "multipleChoice(mul=mul, pre=pre)"
   ]
  },
  {
   "cell_type": "code",
   "execution_count": null,
   "metadata": {},
   "outputs": [],
   "source": []
  },
  {
   "cell_type": "code",
   "execution_count": 6,
   "metadata": {},
   "outputs": [
    {
     "name": "stdout",
     "output_type": "stream",
     "text": [
      "\n",
      "import math\n",
      "def is_prime(number):\n",
      "    if number % 2 == 0:\n",
      "        return False\n",
      "    else:\n",
      "        for i in range(3, int(math.sqrt(number)+1), 2):\n",
      "            if number % i == 0:\n",
      "                return False\n",
      "                \n",
      "    return True\n",
      "What does 'is_prime(9)' evaluate to [True/False]? true\n",
      "Not a meaningul answer for a true or false question.\n"
     ]
    }
   ],
   "source": [
    "# prime no.\n",
    "pre = \"\"\"\n",
    "import math\n",
    "def is_prime(number):\n",
    "    if number % 2 == 0:\n",
    "        return False\n",
    "    else:\n",
    "        for i in range(3, int(math.sqrt(number)+1), 2):\n",
    "            if number % i == 0:\n",
    "                return False\n",
    "                \n",
    "    return True\n",
    "\"\"\"\n",
    "test = 'is_prime(9)'\n",
    "binaryChoice(test, pre)"
   ]
  },
  {
   "cell_type": "code",
   "execution_count": null,
   "metadata": {},
   "outputs": [],
   "source": []
  },
  {
   "cell_type": "code",
   "execution_count": null,
   "metadata": {},
   "outputs": [],
   "source": []
  },
  {
   "cell_type": "code",
   "execution_count": null,
   "metadata": {},
   "outputs": [],
   "source": []
  },
  {
   "cell_type": "code",
   "execution_count": null,
   "metadata": {},
   "outputs": [],
   "source": []
  }
 ],
 "metadata": {
  "kernelspec": {
   "display_name": "Python 2",
   "language": "python",
   "name": "python2"
  },
  "language_info": {
   "codemirror_mode": {
    "name": "ipython",
    "version": 2
   },
   "file_extension": ".py",
   "mimetype": "text/x-python",
   "name": "python",
   "nbconvert_exporter": "python",
   "pygments_lexer": "ipython2",
   "version": "2.7.14"
  }
 },
 "nbformat": 4,
 "nbformat_minor": 2
}
