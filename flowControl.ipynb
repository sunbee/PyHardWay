{
 "cells": [
  {
   "cell_type": "code",
   "execution_count": 5,
   "metadata": {},
   "outputs": [
    {
     "name": "stdout",
     "output_type": "stream",
     "text": [
      "0\n",
      "1\n"
     ]
    }
   ],
   "source": [
    "for i in range(0, 2):\n",
    "    print i"
   ]
  },
  {
   "cell_type": "code",
   "execution_count": 9,
   "metadata": {},
   "outputs": [
    {
     "name": "stdout",
     "output_type": "stream",
     "text": [
      "Which finger? Daddy\n",
      "Got Daddy Finger\n"
     ]
    }
   ],
   "source": [
    "def getFinger():\n",
    "    thisFinger = raw_input(\"Which finger? \")\n",
    "    print \"Got %s Finger\" % thisFinger\n",
    "getFinger()"
   ]
  },
  {
   "cell_type": "code",
   "execution_count": 13,
   "metadata": {},
   "outputs": [
    {
     "name": "stdout",
     "output_type": "stream",
     "text": [
      "Which Shark? Mama\n",
      "Got Mama shark\n",
      "Which Finger? Daddy\n",
      "Got Daddy shark\n"
     ]
    }
   ],
   "source": [
    "def probingQuestion(probe):\n",
    "    probingPhrase = \"Which \" + probe + \"? \"\n",
    "    def getProbe():\n",
    "        ans = raw_input(probingPhrase)\n",
    "        print \"Got %s shark\" % ans\n",
    "    return getProbe\n",
    "getShark = probingQuestion(\"Shark\")\n",
    "getShark()\n",
    "getFinger = probingQuestion(\"Finger\")\n",
    "getFinger()\n"
   ]
  },
  {
   "cell_type": "code",
   "execution_count": 16,
   "metadata": {},
   "outputs": [
    {
     "name": "stdout",
     "output_type": "stream",
     "text": [
      "Kumapsumida!\n"
     ]
    }
   ],
   "source": [
    "santa = False\n",
    "banta = False\n",
    "if santa:\n",
    "    print \"Hanna!\"\n",
    "elif banta:\n",
    "    print \"Dul!\"\n",
    "else:\n",
    "    print \"Kumapsumida!\""
   ]
  },
  {
   "cell_type": "code",
   "execution_count": 22,
   "metadata": {},
   "outputs": [
    {
     "name": "stdout",
     "output_type": "stream",
     "text": [
      "1 20 0\n"
     ]
    }
   ],
   "source": [
    "def secret_formula(Start):\n",
    "    beans = Start/1000\n",
    "    carrots = Start/50\n",
    "    okra = Start/5000\n",
    "    return beans, carrots, okra\n",
    "a, b, c= secret_formula(1000)\n",
    "print a, b, c\n",
    "  "
   ]
  },
  {
   "cell_type": "code",
   "execution_count": 23,
   "metadata": {},
   "outputs": [
    {
     "data": {
      "text/plain": [
       "1"
      ]
     },
     "execution_count": 23,
     "metadata": {},
     "output_type": "execute_result"
    }
   ],
   "source": [
    "\n",
    "1"
   ]
  },
  {
   "cell_type": "code",
   "execution_count": null,
   "metadata": {},
   "outputs": [],
   "source": []
  }
 ],
 "metadata": {
  "kernelspec": {
   "display_name": "Python 2",
   "language": "python",
   "name": "python2"
  },
  "language_info": {
   "codemirror_mode": {
    "name": "ipython",
    "version": 2
   },
   "file_extension": ".py",
   "mimetype": "text/x-python",
   "name": "python",
   "nbconvert_exporter": "python",
   "pygments_lexer": "ipython2",
   "version": "2.7.14"
  }
 },
 "nbformat": 4,
 "nbformat_minor": 2
}
