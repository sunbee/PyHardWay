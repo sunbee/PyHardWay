{
 "cells": [
  {
   "cell_type": "code",
   "execution_count": 85,
   "metadata": {},
   "outputs": [],
   "source": [
    "import json, urllib\n",
    "import plotly.offline as py\n",
    "import pandas as pd\n",
    "import numpy as np"
   ]
  },
  {
   "cell_type": "code",
   "execution_count": 86,
   "metadata": {},
   "outputs": [],
   "source": [
    "refugee_df = pd.read_csv(\"C:/Users/ssbhat3/Desktop/PyHardWay/refugee-movement.csv\")"
   ]
  },
  {
   "cell_type": "code",
   "execution_count": 87,
   "metadata": {
    "scrolled": false
   },
   "outputs": [
    {
     "data": {
      "text/html": [
       "<div>\n",
       "<style scoped>\n",
       "    .dataframe tbody tr th:only-of-type {\n",
       "        vertical-align: middle;\n",
       "    }\n",
       "\n",
       "    .dataframe tbody tr th {\n",
       "        vertical-align: top;\n",
       "    }\n",
       "\n",
       "    .dataframe thead th {\n",
       "        text-align: right;\n",
       "    }\n",
       "</style>\n",
       "<table border=\"1\" class=\"dataframe\">\n",
       "  <thead>\n",
       "    <tr style=\"text-align: right;\">\n",
       "      <th></th>\n",
       "      <th>Source</th>\n",
       "      <th>Target</th>\n",
       "      <th>Value</th>\n",
       "      <th>Color</th>\n",
       "      <th>Node, Label</th>\n",
       "    </tr>\n",
       "  </thead>\n",
       "  <tbody>\n",
       "    <tr>\n",
       "      <th>0</th>\n",
       "      <td>0</td>\n",
       "      <td>14</td>\n",
       "      <td>548</td>\n",
       "      <td>#262C46</td>\n",
       "      <td>People from Iran</td>\n",
       "    </tr>\n",
       "    <tr>\n",
       "      <th>1</th>\n",
       "      <td>0</td>\n",
       "      <td>15</td>\n",
       "      <td>167</td>\n",
       "      <td>#262C46</td>\n",
       "      <td>People from Afghanistan</td>\n",
       "    </tr>\n",
       "    <tr>\n",
       "      <th>2</th>\n",
       "      <td>1</td>\n",
       "      <td>14</td>\n",
       "      <td>135</td>\n",
       "      <td>#262C46</td>\n",
       "      <td>People from Pakistan</td>\n",
       "    </tr>\n",
       "    <tr>\n",
       "      <th>3</th>\n",
       "      <td>1</td>\n",
       "      <td>15</td>\n",
       "      <td>37</td>\n",
       "      <td>#262C46</td>\n",
       "      <td>People from Iraq</td>\n",
       "    </tr>\n",
       "    <tr>\n",
       "      <th>4</th>\n",
       "      <td>2</td>\n",
       "      <td>14</td>\n",
       "      <td>105</td>\n",
       "      <td>#262C46</td>\n",
       "      <td>People from Bangladesh</td>\n",
       "    </tr>\n",
       "  </tbody>\n",
       "</table>\n",
       "</div>"
      ],
      "text/plain": [
       "   Source  Target  Value    Color              Node, Label\n",
       "0       0      14    548  #262C46         People from Iran\n",
       "1       0      15    167  #262C46  People from Afghanistan\n",
       "2       1      14    135  #262C46     People from Pakistan\n",
       "3       1      15     37  #262C46         People from Iraq\n",
       "4       2      14    105  #262C46   People from Bangladesh"
      ]
     },
     "execution_count": 87,
     "metadata": {},
     "output_type": "execute_result"
    }
   ],
   "source": [
    "refugee_df.head()"
   ]
  },
  {
   "cell_type": "code",
   "execution_count": 88,
   "metadata": {},
   "outputs": [],
   "source": [
    "Source = refugee_df['Source'].dropna(axis=0, how='any')\n",
    "Target = refugee_df['Target'].dropna(axis=0, how='any')\n",
    "Value=refugee_df['Value'].dropna(axis=0, how='any')"
   ]
  },
  {
   "cell_type": "code",
   "execution_count": 89,
   "metadata": {
    "scrolled": false
   },
   "outputs": [
    {
     "data": {
      "text/plain": [
       "0      548\n",
       "1      167\n",
       "2      135\n",
       "3       37\n",
       "4      105\n",
       "5       74\n",
       "6      106\n",
       "7       21\n",
       "8       74\n",
       "9       42\n",
       "10      53\n",
       "11      17\n",
       "12      48\n",
       "13       9\n",
       "14      46\n",
       "15      13\n",
       "16      27\n",
       "17     123\n",
       "18      41\n",
       "19     104\n",
       "20      19\n",
       "21      12\n",
       "22      18\n",
       "23      13\n",
       "24      13\n",
       "25      14\n",
       "26    1246\n",
       "27     633\n",
       "28    1215\n",
       "29     607\n",
       "30      34\n",
       "31      10\n",
       "32       4\n",
       "33       2\n",
       "34       4\n",
       "35       2\n",
       "36       1\n",
       "Name: Value, dtype: int64"
      ]
     },
     "execution_count": 89,
     "metadata": {},
     "output_type": "execute_result"
    }
   ],
   "source": [
    "Value"
   ]
  },
  {
   "cell_type": "code",
   "execution_count": 90,
   "metadata": {},
   "outputs": [],
   "source": [
    "Label = refugee_df['Node, Label'].dropna(axis=0, how='any')"
   ]
  },
  {
   "cell_type": "code",
   "execution_count": 91,
   "metadata": {},
   "outputs": [
    {
     "data": {
      "text/plain": [
       "0                    People from Iran\n",
       "1             People from Afghanistan\n",
       "2                People from Pakistan\n",
       "3                    People from Iraq\n",
       "4              People from Bangladesh\n",
       "5                 People from Myanmar\n",
       "6                 People from Somalia\n",
       "7                 People from Lebanon\n",
       "8     People from Myanmar (Stateless)\n",
       "9               People from Sri Lanka\n",
       "10                   Stateless People\n",
       "11                  People from Nepal\n",
       "12                       Other People\n",
       "13                  People from India\n",
       "14                              Manus\n",
       "15                              Nauru\n",
       "16               Total Asylum Seekers\n",
       "17            Still on Manus or Nauru\n",
       "18                            Unknown\n",
       "19                               Iran\n",
       "20                               Iraq\n",
       "21                           Cambodia\n",
       "22                        Afghanistan\n",
       "23                            Lebanon\n",
       "24                          Sri Lanka\n",
       "25                            Somalia\n",
       "Name: Node, Label, dtype: object"
      ]
     },
     "execution_count": 91,
     "metadata": {},
     "output_type": "execute_result"
    }
   ],
   "source": [
    "Label"
   ]
  },
  {
   "cell_type": "code",
   "execution_count": 92,
   "metadata": {},
   "outputs": [],
   "source": [
    "Color=refugee_df['Color']"
   ]
  },
  {
   "cell_type": "code",
   "execution_count": 93,
   "metadata": {},
   "outputs": [
    {
     "data": {
      "text/plain": [
       "0     #262C46\n",
       "1     #262C46\n",
       "2     #262C46\n",
       "3     #262C46\n",
       "4     #262C46\n",
       "5     #262C46\n",
       "6     #262C46\n",
       "7     #262C46\n",
       "8     #262C46\n",
       "9     #262C46\n",
       "10    #262C46\n",
       "11    #262C46\n",
       "12    #262C46\n",
       "13    #262C46\n",
       "14    #262C46\n",
       "15    #262C46\n",
       "16    #262C46\n",
       "17    #262C46\n",
       "18    #262C46\n",
       "19    #262C46\n",
       "20    #262C46\n",
       "21    #262C46\n",
       "22    #262C46\n",
       "23    #262C46\n",
       "24    #262C46\n",
       "25    #262C46\n",
       "26    #262C46\n",
       "27    #262C46\n",
       "28    #262C46\n",
       "29    #262C46\n",
       "30    #262C46\n",
       "31    #262C46\n",
       "32    #262C46\n",
       "33    #262C46\n",
       "34    #262C46\n",
       "35    #262C46\n",
       "36    #262C46\n",
       "Name: Color, dtype: object"
      ]
     },
     "execution_count": 93,
     "metadata": {},
     "output_type": "execute_result"
    }
   ],
   "source": [
    "Color"
   ]
  },
  {
   "cell_type": "code",
   "execution_count": 94,
   "metadata": {},
   "outputs": [],
   "source": [
    "Node=dict(\n",
    "    pad=10,\n",
    "    thickness=30,\n",
    "    line=dict(\n",
    "        color=\"black\",\n",
    "        width=0.5\n",
    "    ),\n",
    "    label=Label,\n",
    "    color=Color\n",
    ")"
   ]
  },
  {
   "cell_type": "code",
   "execution_count": 95,
   "metadata": {},
   "outputs": [],
   "source": [
    "Link=dict(\n",
    "    source=Source,\n",
    "    target=Target,\n",
    "    value=Value\n",
    ")"
   ]
  },
  {
   "cell_type": "code",
   "execution_count": 96,
   "metadata": {},
   "outputs": [],
   "source": [
    "Layout = dict(\n",
    "    title=\"Refugee movement through Manus and Nauru, via <h2>Bryan Brussee</h2>\",\n",
    "    height=772,\n",
    "    width=950,\n",
    "    font=dict(\n",
    "        size=10\n",
    "    ),\n",
    ")"
   ]
  },
  {
   "cell_type": "code",
   "execution_count": 97,
   "metadata": {},
   "outputs": [],
   "source": [
    "Domain = dict(\n",
    "    x=[0,1],\n",
    "    y=[0,1]\n",
    ")"
   ]
  },
  {
   "cell_type": "code",
   "execution_count": 98,
   "metadata": {},
   "outputs": [],
   "source": [
    "data_trace = dict(\n",
    "    type='sankey',\n",
    "    domain=Domain,\n",
    "    orientation=\"h\",\n",
    "    valueformat=\".0f\",\n",
    "    node=Node,\n",
    "    link=Link,\n",
    ")"
   ]
  },
  {
   "cell_type": "code",
   "execution_count": 99,
   "metadata": {},
   "outputs": [],
   "source": [
    "fig=dict(data=[data_trace], layout=Layout)"
   ]
  },
  {
   "cell_type": "code",
   "execution_count": 101,
   "metadata": {},
   "outputs": [
    {
     "data": {
      "text/plain": [
       "'file://C:\\\\PYTHON27\\\\SCRIPTS\\\\temp-plot.html'"
      ]
     },
     "execution_count": 101,
     "metadata": {},
     "output_type": "execute_result"
    }
   ],
   "source": [
    "py.plot(fig)"
   ]
  },
  {
   "cell_type": "code",
   "execution_count": 77,
   "metadata": {},
   "outputs": [
    {
     "data": {
      "application/vnd.plotly.v1+json": {
       "data": [
        {
         "domain": {
          "x": [
           0,
           1
          ],
          "y": [
           0,
           1
          ]
         },
         "link": {
          "source": [
           0,
           0,
           1,
           1,
           2,
           2,
           3,
           3,
           4,
           4,
           5,
           5,
           6,
           6,
           7,
           8,
           9,
           9,
           10,
           10,
           11,
           11,
           12,
           12,
           13,
           13,
           14,
           15,
           16,
           16,
           16,
           16,
           16,
           16,
           16,
           16,
           16
          ],
          "target": [
           14,
           15,
           14,
           15,
           14,
           15,
           14,
           15,
           14,
           15,
           14,
           15,
           14,
           15,
           14,
           14,
           14,
           15,
           14,
           15,
           14,
           15,
           14,
           15,
           14,
           15,
           16,
           16,
           17,
           18,
           19,
           20,
           21,
           22,
           23,
           24,
           25
          ],
          "value": [
           548,
           167,
           135,
           37,
           105,
           74,
           106,
           21,
           74,
           42,
           53,
           17,
           48,
           9,
           46,
           13,
           27,
           123,
           41,
           104,
           19,
           12,
           18,
           13,
           13,
           14,
           1246,
           633,
           1215,
           607,
           34,
           10,
           4,
           2,
           4,
           2,
           1
          ]
         },
         "node": {
          "color": [
           "#262C46",
           "#262C46",
           "#262C46",
           "#262C46",
           "#262C46",
           "#262C46",
           "#262C46",
           "#262C46",
           "#262C46",
           "#262C46",
           "#262C46",
           "#262C46",
           "#262C46",
           "#262C46",
           "#262C46",
           "#262C46",
           "#262C46",
           "#262C46",
           "#262C46",
           "#262C46",
           "#262C46",
           "#262C46",
           "#262C46",
           "#262C46",
           "#262C46",
           "#262C46",
           "#262C46",
           "#262C46",
           "#262C46",
           "#262C46",
           "#262C46",
           "#262C46",
           "#262C46",
           "#262C46",
           "#262C46",
           "#262C46",
           "#262C46"
          ],
          "label": [
           "People from Iran",
           "People from Afghanistan",
           "People from Pakistan",
           "People from Iraq",
           "People from Bangladesh",
           "People from Myanmar",
           "People from Somalia",
           "People from Lebanon",
           "People from Myanmar (Stateless)",
           "People from Sri Lanka",
           "Stateless People",
           "People from Nepal",
           "Other People",
           "People from India",
           "Manus",
           "Nauru",
           "Total Asylum Seekers",
           "Still on Manus or Nauru",
           "Unknown",
           "Iran",
           "Iraq",
           "Cambodia",
           "Afghanistan",
           "Lebanon",
           "Sri Lanka",
           "Somalia"
          ],
          "line": {
           "color": "black",
           "width": 0.5
          },
          "pad": 10,
          "thickness": 30
         },
         "orientation": "h",
         "type": "sankey",
         "valueformat": ".0f"
        }
       ],
       "layout": {
        "font": {
         "size": 10
        },
        "height": 772,
        "title": "Refugee movement through Manus and Nauru, via <h2>Bryan Brussee</h2>",
        "width": 950
       }
      }
     },
     "metadata": {},
     "output_type": "display_data"
    }
   ],
   "source": []
  },
  {
   "cell_type": "code",
   "execution_count": null,
   "metadata": {},
   "outputs": [],
   "source": []
  }
 ],
 "metadata": {
  "kernelspec": {
   "display_name": "Python 2",
   "language": "python",
   "name": "python2"
  },
  "language_info": {
   "codemirror_mode": {
    "name": "ipython",
    "version": 2
   },
   "file_extension": ".py",
   "mimetype": "text/x-python",
   "name": "python",
   "nbconvert_exporter": "python",
   "pygments_lexer": "ipython2",
   "version": "2.7.14"
  }
 },
 "nbformat": 4,
 "nbformat_minor": 2
}
