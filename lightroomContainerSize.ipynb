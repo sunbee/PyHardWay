{
 "cells": [
  {
   "cell_type": "code",
   "execution_count": 80,
   "metadata": {},
   "outputs": [],
   "source": [
    "import pandas as pd\n",
    "import numpy as np"
   ]
  },
  {
   "cell_type": "code",
   "execution_count": 81,
   "metadata": {},
   "outputs": [
    {
     "name": "stdout",
     "output_type": "stream",
     "text": [
      "The factorial of 100 is: 9426890448883247745626185743057242473809693764078951663494238777294707070023223798882976159207729119823605850588608460429412647567360000000000000000000000L\n",
      "Adding 1 to this number, the result is: 9426890448883247745626185743057242473809693764078951663494238777294707070023223798882976159207729119823605850588608460429412647567360000000000000000000001L\n"
     ]
    }
   ],
   "source": [
    "# First, lets test the ability of Python to handle very large numbers.\n",
    "# We can test this out by taking the factorial of, say, n=100\n",
    "# Start with a smaller-sized problem, say, n=10\n",
    "# Why are there zeros at the trailing end of the number?\n",
    "# Hint! How many pairs in 1..n, when multiplied, yield 10?\n",
    "# Ref: https://stackoverflow.com/questions/538551/handling-very-large-numbers-in-python\n",
    "n=100\n",
    "\n",
    "fact=1\n",
    "for i in range(1, n-1):\n",
    "    fact = fact*i\n",
    "    \n",
    "print \"The factorial of %r is: %r\" % (n, fact)\n",
    "print \"Adding 1 to this number, the result is: %r\" % (fact+1)"
   ]
  },
  {
   "cell_type": "code",
   "execution_count": 82,
   "metadata": {},
   "outputs": [
    {
     "name": "stderr",
     "output_type": "stream",
     "text": [
      "testMe_big (__main__.testMyFactorial) ... ok\n",
      "testMe_small (__main__.testMyFactorial) ... ok\n",
      "\n",
      "----------------------------------------------------------------------\n",
      "Ran 2 tests in 0.005s\n",
      "\n",
      "OK\n"
     ]
    },
    {
     "data": {
      "text/plain": [
       "<unittest.runner.TextTestResult run=2 errors=0 failures=0>"
      ]
     },
     "execution_count": 82,
     "metadata": {},
     "output_type": "execute_result"
    }
   ],
   "source": [
    "# The solution based on the common combinatorics problem as follows.\n",
    "# How many ways that sum of x(i), where i range from 1 to m, total to s?\n",
    "# Here, x(i) may not exceed r. That is, it is bounded by the range 0 to r.\n",
    "# The first order of business is computing the binomial.\n",
    "\n",
    "import unittest\n",
    "\n",
    "def myFactorial(n):\n",
    "    result = 1\n",
    "    for i in range(0, n):\n",
    "        result = result * (n-i)\n",
    "    return result\n",
    "\n",
    "class testMyFactorial(unittest.TestCase):\n",
    "    \n",
    "    def testMe_small(self):\n",
    "        self.assertEqual(myFactorial(3), 6)\n",
    "        self.assertEqual(myFactorial(4), 24)\n",
    "        self.assertEqual(myFactorial(0), 1)\n",
    "        \n",
    "    def testMe_big(self):\n",
    "        self.assertIsInstance(myFactorial(99), long)\n",
    "        \n",
    "suite = unittest.TestLoader().loadTestsFromTestCase(testMyFactorial)\n",
    "unittest.TextTestRunner(verbosity=2).run(suite)\n",
    "\n",
    "                         "
   ]
  },
  {
   "cell_type": "code",
   "execution_count": 83,
   "metadata": {},
   "outputs": [
    {
     "name": "stderr",
     "output_type": "stream",
     "text": [
      "testMe (__main__.testMyBinomial) ... ok\n",
      "testMe_big (__main__.testMyBinomial) ... ok\n",
      "\n",
      "----------------------------------------------------------------------\n",
      "Ran 2 tests in 0.012s\n",
      "\n",
      "OK\n"
     ]
    },
    {
     "data": {
      "text/plain": [
       "<unittest.runner.TextTestResult run=2 errors=0 failures=0>"
      ]
     },
     "execution_count": 83,
     "metadata": {},
     "output_type": "execute_result"
    }
   ],
   "source": [
    "def myBinomial(x, m):\n",
    "    result = 0\n",
    "    if m < 0:\n",
    "        result = 0\n",
    "    else:\n",
    "        result = 1\n",
    "        for k in range(0, m):\n",
    "            result = result * (x - k)\n",
    "        result = result / myFactorial(m)\n",
    "    return result\n",
    "    \n",
    "class testMyBinomial(unittest.TestCase):\n",
    "    \n",
    "    def testMe(self):\n",
    "        self.assertEqual(myBinomial(2, 3), 0)\n",
    "        self.assertEqual(myBinomial(3, 3), 1)\n",
    "        self.assertEqual(myBinomial(5, 2), 10)\n",
    "        self.assertEqual(myBinomial(5, -2), 0)\n",
    "        \n",
    "    def testMe_big(self):\n",
    "        self.assertEqual(myBinomial(70, 10), 396704524216L)\n",
    "\n",
    "suite = unittest.TestLoader().loadTestsFromTestCase(testMyBinomial)\n",
    "unittest.TextTestRunner(verbosity=2).run(suite)\n"
   ]
  },
  {
   "cell_type": "code",
   "execution_count": 84,
   "metadata": {},
   "outputs": [
    {
     "name": "stderr",
     "output_type": "stream",
     "text": [
      "testMe_logical (__main__.testMyNb) ... ok\n",
      "testMe_preWork (__main__.testMyNb) ... ok\n",
      "testMe_sanity (__main__.testMyNb) ... ok\n",
      "\n",
      "----------------------------------------------------------------------\n",
      "Ran 3 tests in 0.008s\n",
      "\n",
      "OK\n"
     ]
    },
    {
     "data": {
      "text/plain": [
       "<unittest.runner.TextTestResult run=3 errors=0 failures=0>"
      ]
     },
     "execution_count": 84,
     "metadata": {},
     "output_type": "execute_result"
    }
   ],
   "source": [
    "def myNb(s, r, m):\n",
    "    result = 0\n",
    "    if (s >= 0 and r >= 0 and m >= 0):\n",
    "        for k in range(0, m+1):\n",
    "            term = ((-1)**k) * myBinomial(m, k) * myBinomial(s+m-1-k*(r + 1), s-k*(r + 1))\n",
    "            result = result + term\n",
    "    \n",
    "    return result\n",
    "\n",
    "class testMyNb(unittest.TestCase):\n",
    "    \n",
    "    def testMe_logical(self):\n",
    "        self.assertEqual(myNb(24, 5, 5), 5)\n",
    "        self.assertEqual(myNb(15, 4, 4), 4)\n",
    "        self.assertEqual(myNb(14, 4, 4), 10)\n",
    "    \n",
    "    def testMe_preWork(self):\n",
    "        self.assertEqual(myNb(64, 22, 10), 72238591590L)\n",
    "        self.assertEqual(myNb(36, 4, 12), 975338L)\n",
    "    \n",
    "    def testMe_sanity(self):\n",
    "        self.assertEqual(myNb(48, 1, 48), 1)\n",
    "        self.assertEqual(myNb(48, 2, 24), 1)\n",
    "        self.assertEqual(myNb(48, 4, 12), 1)\n",
    "                         \n",
    "suite = unittest.TestLoader().loadTestsFromTestCase(testMyNb)\n",
    "unittest.TextTestRunner(verbosity=2).run(suite)\n",
    "        "
   ]
  },
  {
   "cell_type": "code",
   "execution_count": 85,
   "metadata": {},
   "outputs": [
    {
     "name": "stderr",
     "output_type": "stream",
     "text": [
      "testMe_preWork (__main__.testMyNbe) ... ok\n",
      "testMe_stackex (__main__.testMyNbe) ... ok\n",
      "\n",
      "----------------------------------------------------------------------\n",
      "Ran 2 tests in 0.010s\n",
      "\n",
      "OK\n"
     ]
    },
    {
     "data": {
      "text/plain": [
       "<unittest.runner.TextTestResult run=2 errors=0 failures=0>"
      ]
     },
     "execution_count": 85,
     "metadata": {},
     "output_type": "execute_result"
    }
   ],
   "source": [
    "# The problem of having q empty bins out of m \n",
    "# is based on a tweak of the combinatorics above.\n",
    "# How many ways that the sum of x(i) totol to s - m + q,\n",
    "# where:\n",
    "# i range from 1 to m - q, with q empties\n",
    "# x are bounded between 1 and r-1, \n",
    "#   since remaining (m-q) bins must each have at least 1 ball\n",
    "# s is replaced by s - m + q \n",
    "#   to account for 1 ball in each (m-q) bins already\n",
    "# Further, there are 'm choose q' ways that empty bins may occur.\n",
    "\n",
    "def myNbe(s, r, m, q):\n",
    "    result = 0\n",
    "    if (s >= 0 and r >= 0 and m >= 0 and q >= 0):\n",
    "        result = myBinomial(m, q) * myNb(s-m+q, r-1, m-q)\n",
    "    return result\n",
    "    \n",
    "class testMyNbe(unittest.TestCase):\n",
    "    \n",
    "    def testMe_stackex(self):\n",
    "        s = 3\n",
    "        q = 2\n",
    "        m = 5\n",
    "        self.assertEqual(myNbe(s, 0, m, q), 0)\n",
    "        self.assertEqual(myNbe(s, 1, m, q), 10)\n",
    "        self.assertEqual(myNbe(s, 2, m, q), 10)\n",
    "        self.assertEqual(myNbe(s, 3, m, q), 10)\n",
    "        s = 3\n",
    "        q = 2\n",
    "        m = 4\n",
    "        self.assertEqual(myNbe(s, 2, m, q), 12)\n",
    "        self.assertEqual(myNbe(s, 3, m, q), 12)\n",
    "        \n",
    "    def testMe_preWork(self):\n",
    "        self.assertEqual(myNbe(34, 4, 12, 3), 9900)\n",
    "        self.assertEqual(myNbe(34, 4, 12, 0), 1024464)\n",
    "        self.assertEqual(myNbe(26, 4, 12, 3), 4037220)\n",
    "        \n",
    "suite = unittest.TestLoader().loadTestsFromTestCase(testMyNbe)\n",
    "unittest.TextTestRunner(verbosity=2).run(suite)"
   ]
  },
  {
   "cell_type": "code",
   "execution_count": 107,
   "metadata": {},
   "outputs": [
    {
     "data": {
      "text/html": [
       "<div>\n",
       "<style scoped>\n",
       "    .dataframe tbody tr th:only-of-type {\n",
       "        vertical-align: middle;\n",
       "    }\n",
       "\n",
       "    .dataframe tbody tr th {\n",
       "        vertical-align: top;\n",
       "    }\n",
       "\n",
       "    .dataframe thead th {\n",
       "        text-align: right;\n",
       "    }\n",
       "</style>\n",
       "<table border=\"1\" class=\"dataframe\">\n",
       "  <thead>\n",
       "    <tr style=\"text-align: right;\">\n",
       "      <th></th>\n",
       "      <th>0</th>\n",
       "      <th>1</th>\n",
       "      <th>2</th>\n",
       "      <th>3</th>\n",
       "      <th>4</th>\n",
       "      <th>5</th>\n",
       "    </tr>\n",
       "  </thead>\n",
       "  <tbody>\n",
       "    <tr>\n",
       "      <th>0</th>\n",
       "      <td>0</td>\n",
       "      <td>0</td>\n",
       "      <td>0</td>\n",
       "      <td>0</td>\n",
       "      <td>0</td>\n",
       "      <td>0</td>\n",
       "    </tr>\n",
       "    <tr>\n",
       "      <th>1</th>\n",
       "      <td>0</td>\n",
       "      <td>0</td>\n",
       "      <td>0</td>\n",
       "      <td>1</td>\n",
       "      <td>0</td>\n",
       "      <td>0</td>\n",
       "    </tr>\n",
       "    <tr>\n",
       "      <th>2</th>\n",
       "      <td>0</td>\n",
       "      <td>0</td>\n",
       "      <td>2</td>\n",
       "      <td>1</td>\n",
       "      <td>0</td>\n",
       "      <td>0</td>\n",
       "    </tr>\n",
       "    <tr>\n",
       "      <th>3</th>\n",
       "      <td>0</td>\n",
       "      <td>1</td>\n",
       "      <td>2</td>\n",
       "      <td>1</td>\n",
       "      <td>0</td>\n",
       "      <td>0</td>\n",
       "    </tr>\n",
       "  </tbody>\n",
       "</table>\n",
       "</div>"
      ],
      "text/plain": [
       "   0  1  2  3  4  5\n",
       "0  0  0  0  0  0  0\n",
       "1  0  0  0  1  0  0\n",
       "2  0  0  2  1  0  0\n",
       "3  0  1  2  1  0  0"
      ]
     },
     "metadata": {},
     "output_type": "display_data"
    },
    {
     "data": {
      "text/html": [
       "<div>\n",
       "<style scoped>\n",
       "    .dataframe tbody tr th:only-of-type {\n",
       "        vertical-align: middle;\n",
       "    }\n",
       "\n",
       "    .dataframe tbody tr th {\n",
       "        vertical-align: top;\n",
       "    }\n",
       "\n",
       "    .dataframe thead th {\n",
       "        text-align: right;\n",
       "    }\n",
       "</style>\n",
       "<table border=\"1\" class=\"dataframe\">\n",
       "  <thead>\n",
       "    <tr style=\"text-align: right;\">\n",
       "      <th></th>\n",
       "      <th>0</th>\n",
       "      <th>1</th>\n",
       "      <th>2</th>\n",
       "      <th>3</th>\n",
       "      <th>4</th>\n",
       "      <th>5</th>\n",
       "    </tr>\n",
       "  </thead>\n",
       "  <tbody>\n",
       "    <tr>\n",
       "      <th>0</th>\n",
       "      <td>0</td>\n",
       "      <td>0</td>\n",
       "      <td>0</td>\n",
       "      <td>0</td>\n",
       "      <td>0</td>\n",
       "      <td>0</td>\n",
       "    </tr>\n",
       "    <tr>\n",
       "      <th>1</th>\n",
       "      <td>0</td>\n",
       "      <td>0</td>\n",
       "      <td>0</td>\n",
       "      <td>0</td>\n",
       "      <td>4</td>\n",
       "      <td>0</td>\n",
       "    </tr>\n",
       "    <tr>\n",
       "      <th>2</th>\n",
       "      <td>0</td>\n",
       "      <td>0</td>\n",
       "      <td>0</td>\n",
       "      <td>6</td>\n",
       "      <td>4</td>\n",
       "      <td>0</td>\n",
       "    </tr>\n",
       "    <tr>\n",
       "      <th>3</th>\n",
       "      <td>0</td>\n",
       "      <td>0</td>\n",
       "      <td>2</td>\n",
       "      <td>6</td>\n",
       "      <td>4</td>\n",
       "      <td>0</td>\n",
       "    </tr>\n",
       "  </tbody>\n",
       "</table>\n",
       "</div>"
      ],
      "text/plain": [
       "   0  1  2  3  4  5\n",
       "0  0  0  0  0  0  0\n",
       "1  0  0  0  0  4  0\n",
       "2  0  0  0  6  4  0\n",
       "3  0  0  2  6  4  0"
      ]
     },
     "metadata": {},
     "output_type": "display_data"
    },
    {
     "data": {
      "text/html": [
       "<div>\n",
       "<style scoped>\n",
       "    .dataframe tbody tr th:only-of-type {\n",
       "        vertical-align: middle;\n",
       "    }\n",
       "\n",
       "    .dataframe tbody tr th {\n",
       "        vertical-align: top;\n",
       "    }\n",
       "\n",
       "    .dataframe thead th {\n",
       "        text-align: right;\n",
       "    }\n",
       "</style>\n",
       "<table border=\"1\" class=\"dataframe\">\n",
       "  <thead>\n",
       "    <tr style=\"text-align: right;\">\n",
       "      <th></th>\n",
       "      <th>0</th>\n",
       "      <th>1</th>\n",
       "      <th>2</th>\n",
       "      <th>3</th>\n",
       "      <th>4</th>\n",
       "      <th>5</th>\n",
       "    </tr>\n",
       "  </thead>\n",
       "  <tbody>\n",
       "    <tr>\n",
       "      <th>0</th>\n",
       "      <td>0</td>\n",
       "      <td>0</td>\n",
       "      <td>0</td>\n",
       "      <td>0</td>\n",
       "      <td>0</td>\n",
       "      <td>0</td>\n",
       "    </tr>\n",
       "    <tr>\n",
       "      <th>1</th>\n",
       "      <td>0</td>\n",
       "      <td>0</td>\n",
       "      <td>0</td>\n",
       "      <td>0</td>\n",
       "      <td>0</td>\n",
       "      <td>10</td>\n",
       "    </tr>\n",
       "    <tr>\n",
       "      <th>2</th>\n",
       "      <td>0</td>\n",
       "      <td>0</td>\n",
       "      <td>0</td>\n",
       "      <td>0</td>\n",
       "      <td>12</td>\n",
       "      <td>10</td>\n",
       "    </tr>\n",
       "    <tr>\n",
       "      <th>3</th>\n",
       "      <td>0</td>\n",
       "      <td>0</td>\n",
       "      <td>0</td>\n",
       "      <td>3</td>\n",
       "      <td>12</td>\n",
       "      <td>10</td>\n",
       "    </tr>\n",
       "  </tbody>\n",
       "</table>\n",
       "</div>"
      ],
      "text/plain": [
       "   0  1  2  3   4   5\n",
       "0  0  0  0  0   0   0\n",
       "1  0  0  0  0   0  10\n",
       "2  0  0  0  0  12  10\n",
       "3  0  0  0  3  12  10"
      ]
     },
     "metadata": {},
     "output_type": "display_data"
    }
   ],
   "source": [
    "# Loop without loop\n",
    "s = 3\n",
    "r = [0, 1, 2, 3]\n",
    "q = 0\n",
    "\n",
    "df = [list(map(lambda x: myNbe(s, x, m, q), r)) for m in range(0, 6)]\n",
    "df = pd.DataFrame(df)\n",
    "df = df.transpose()\n",
    "display(df)\n",
    "\n",
    "s = 3\n",
    "r = [0, 1, 2, 3]\n",
    "q = 1\n",
    "\n",
    "df = [list(map(lambda x: myNbe(s, x, m, q), r)) for m in range(0, 6)]\n",
    "df = pd.DataFrame(df)\n",
    "df = df.transpose()\n",
    "display(df)\n",
    "\n",
    "s = 3\n",
    "r = [0, 1, 2, 3]\n",
    "q = 2\n",
    "\n",
    "df = [list(map(lambda x: myNbe(s, x, m, q), r)) for m in range(0, 6)]\n",
    "df = pd.DataFrame(df)\n",
    "df = df.transpose()\n",
    "df.columns = range(0, 6)\n",
    "display(df)"
   ]
  },
  {
   "cell_type": "code",
   "execution_count": 110,
   "metadata": {},
   "outputs": [
    {
     "name": "stdout",
     "output_type": "stream",
     "text": [
      "got 16\n"
     ]
    }
   ],
   "source": [
    "def myEmptyBins(s, r, m, q):\n",
    "    return sum(map(lambda x: myNbe(s,r, m, x), range(q, m+1)))\n",
    "\n",
    "s = 3\n",
    "r = 2\n",
    "m = 4\n",
    "q = 0\n",
    "\n",
    "print \"Got %r\" % myEmptyBins(s, r, m, q)\n"
   ]
  },
  {
   "cell_type": "code",
   "execution_count": null,
   "metadata": {},
   "outputs": [],
   "source": []
  },
  {
   "cell_type": "code",
   "execution_count": null,
   "metadata": {},
   "outputs": [],
   "source": []
  }
 ],
 "metadata": {
  "kernelspec": {
   "display_name": "Python 2",
   "language": "python",
   "name": "python2"
  },
  "language_info": {
   "codemirror_mode": {
    "name": "ipython",
    "version": 2
   },
   "file_extension": ".py",
   "mimetype": "text/x-python",
   "name": "python",
   "nbconvert_exporter": "python",
   "pygments_lexer": "ipython2",
   "version": "2.7.14"
  }
 },
 "nbformat": 4,
 "nbformat_minor": 2
}
