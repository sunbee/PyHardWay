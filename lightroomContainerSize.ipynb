{
 "cells": [
  {
   "cell_type": "code",
   "execution_count": 57,
   "metadata": {},
   "outputs": [
    {
     "name": "stdout",
     "output_type": "stream",
     "text": [
      "The factorial of 100 is: 9426890448883247745626185743057242473809693764078951663494238777294707070023223798882976159207729119823605850588608460429412647567360000000000000000000000L\n",
      "Adding 1 to this number, the result is: 9426890448883247745626185743057242473809693764078951663494238777294707070023223798882976159207729119823605850588608460429412647567360000000000000000000001L\n"
     ]
    }
   ],
   "source": [
    "# First, lets test the ability of Python to handle very large numbers.\n",
    "# We can test this out by taking the factorial of, say, n=100\n",
    "# Start with a smaller-sized problem, say, n=10\n",
    "# Why are there zeros at the trailing end of the number?\n",
    "# Hint! How many pairs in 1..n, when multiplied, yield 10?\n",
    "# Ref: https://stackoverflow.com/questions/538551/handling-very-large-numbers-in-python\n",
    "n=100\n",
    "\n",
    "fact=1\n",
    "for i in range(1, n-1):\n",
    "    fact = fact*i\n",
    "    \n",
    "print \"The factorial of %r is: %r\" % (n, fact)\n",
    "print \"Adding 1 to this number, the result is: %r\" % (fact+1)"
   ]
  },
  {
   "cell_type": "code",
   "execution_count": 58,
   "metadata": {},
   "outputs": [
    {
     "name": "stderr",
     "output_type": "stream",
     "text": [
      "testMe_big (__main__.testMyFactorial) ... ok\n",
      "testMe_small (__main__.testMyFactorial) ... ok\n",
      "\n",
      "----------------------------------------------------------------------\n",
      "Ran 2 tests in 0.006s\n",
      "\n",
      "OK\n"
     ]
    },
    {
     "data": {
      "text/plain": [
       "<unittest.runner.TextTestResult run=2 errors=0 failures=0>"
      ]
     },
     "execution_count": 58,
     "metadata": {},
     "output_type": "execute_result"
    }
   ],
   "source": [
    "# The solution based on the common combinatorics problem as follows.\n",
    "# How many ways that sum of x(i), where i range from 1 to m, total to s>\n",
    "# Here, x(i) may not exceed r. That is, it is bounded by the range 0 to r.\n",
    "# The first order of business is computing the binomial.\n",
    "\n",
    "import unittest\n",
    "\n",
    "def myFactorial(n):\n",
    "    result = 1\n",
    "    for i in range(0, n):\n",
    "        result = result * (n-i)\n",
    "    return result\n",
    "\n",
    "class testMyFactorial(unittest.TestCase):\n",
    "    \n",
    "    def testMe_small(self):\n",
    "        self.assertEqual(myFactorial(3), 6)\n",
    "        self.assertEqual(myFactorial(4), 24)\n",
    "        self.assertEqual(myFactorial(0), 1)\n",
    "        \n",
    "    def testMe_big(self):\n",
    "        self.assertIsInstance(myFactorial(99), long)\n",
    "        \n",
    "suite = unittest.TestLoader().loadTestsFromTestCase(testMyFactorial)\n",
    "unittest.TextTestRunner(verbosity=2).run(suite)\n",
    "\n",
    "                         "
   ]
  },
  {
   "cell_type": "code",
   "execution_count": 116,
   "metadata": {},
   "outputs": [
    {
     "name": "stderr",
     "output_type": "stream",
     "text": [
      "testMe (__main__.testMyBinomial) ... ok\n",
      "\n",
      "----------------------------------------------------------------------\n",
      "Ran 1 test in 0.003s\n",
      "\n",
      "OK\n"
     ]
    },
    {
     "data": {
      "text/plain": [
       "<unittest.runner.TextTestResult run=1 errors=0 failures=0>"
      ]
     },
     "execution_count": 116,
     "metadata": {},
     "output_type": "execute_result"
    }
   ],
   "source": [
    "def myBinomial(x, m):\n",
    "    result = 0\n",
    "    if m < 0:\n",
    "        result = 0\n",
    "    else:\n",
    "        result = 1\n",
    "        for k in range(0, m):\n",
    "            result = result * (x - k)\n",
    "        result = result / myFactorial(m)\n",
    "    return result\n",
    "    \n",
    "class testMyBinomial(unittest.TestCase):\n",
    "    \n",
    "    def testMe(self):\n",
    "        self.assertEqual(myBinomial(2, 3), 0)\n",
    "        self.assertEqual(myBinomial(3, 3), 1)\n",
    "        self.assertEqual(myBinomial(5, 2), 10)\n",
    "        self.assertEqual(myBinomial(5, -2), 0)\n",
    "\n",
    "suite = unittest.TestLoader().loadTestsFromTestCase(testMyBinomial)\n",
    "unittest.TextTestRunner(verbosity=2).run(suite)\n"
   ]
  },
  {
   "cell_type": "code",
   "execution_count": 117,
   "metadata": {},
   "outputs": [
    {
     "name": "stderr",
     "output_type": "stream",
     "text": [
      "testMe (__main__.testMyNb) ... ok\n",
      "\n",
      "----------------------------------------------------------------------\n",
      "Ran 1 test in 0.005s\n",
      "\n",
      "OK\n"
     ]
    },
    {
     "data": {
      "text/plain": [
       "<unittest.runner.TextTestResult run=1 errors=0 failures=0>"
      ]
     },
     "execution_count": 117,
     "metadata": {},
     "output_type": "execute_result"
    }
   ],
   "source": [
    "def myNb(s, r, m):\n",
    "    result = 0\n",
    "    if (s > 0 and r > 0 and m > 0):\n",
    "        for k in range(0, int(s/r)+1):\n",
    "            term = ((-1)**k) * myBinomial(m, k) * myBinomial(s+m-1-k*(r + 1), s-k*(r + 1))\n",
    "            result = result + term\n",
    "    \n",
    "    return result\n",
    "\n",
    "class testMyNb(unittest.TestCase):\n",
    "    \n",
    "    def testMe(self):\n",
    "        self.assertEqual(myNb(24, 5, 5), 5)\n",
    "        self.assertEqual(myNb(15, 4, 4), 4)\n",
    "        self.assertEqual(myNb(14, 4, 4), 10)\n",
    "        self.assertEqual(myNb(64, 22, 10), 72238591590L)\n",
    "        \n",
    "suite = unittest.TestLoader().loadTestsFromTestCase(testMyNb)\n",
    "unittest.TextTestRunner(verbosity=2).run(suite)\n",
    "        "
   ]
  },
  {
   "cell_type": "code",
   "execution_count": null,
   "metadata": {},
   "outputs": [],
   "source": []
  },
  {
   "cell_type": "code",
   "execution_count": 111,
   "metadata": {},
   "outputs": [
    {
     "data": {
      "text/plain": [
       "1"
      ]
     },
     "execution_count": 111,
     "metadata": {},
     "output_type": "execute_result"
    }
   ],
   "source": []
  },
  {
   "cell_type": "code",
   "execution_count": null,
   "metadata": {},
   "outputs": [],
   "source": []
  },
  {
   "cell_type": "code",
   "execution_count": null,
   "metadata": {},
   "outputs": [],
   "source": []
  }
 ],
 "metadata": {
  "kernelspec": {
   "display_name": "Python 2",
   "language": "python",
   "name": "python2"
  },
  "language_info": {
   "codemirror_mode": {
    "name": "ipython",
    "version": 2
   },
   "file_extension": ".py",
   "mimetype": "text/x-python",
   "name": "python",
   "nbconvert_exporter": "python",
   "pygments_lexer": "ipython2",
   "version": "2.7.14"
  }
 },
 "nbformat": 4,
 "nbformat_minor": 2
}
