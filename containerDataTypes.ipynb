{
 "cells": [
  {
   "cell_type": "code",
   "execution_count": 1,
   "metadata": {},
   "outputs": [],
   "source": [
    "# Containers\n",
    "# List, Tuple, Set, Dictionary\n",
    "# Highlights:\n",
    "# Heterogenous - They can contain mixed data types, including containers, so data can be nested\n",
    "# Iterable - They support iterative operation over elements\n",
    "# Ordered - List, Tuple and String are ordered, i.e. order of elements has meaning"
   ]
  },
  {
   "cell_type": "code",
   "execution_count": 2,
   "metadata": {},
   "outputs": [
    {
     "name": "stdout",
     "output_type": "stream",
     "text": [
      "\n",
      "zoo = [\"elephant\", \"hippopotamus\", \"penguin\"]\n",
      "del zoo[1]\n",
      "\n",
      "\n",
      "What does the code snippet do:\n",
      "zoo\n",
      "['A'] ['elephant', 'penguin']\n",
      "['C'] 'Error'\n",
      "['B'] ['hippopotamus', 'penguin']\n",
      "> A\n",
      "\n",
      "That is the correct answer. Indexing starts with 0.\n"
     ]
    }
   ],
   "source": [
    "def multipleChoice(que, mul, con, pre=None, run=False):\n",
    "#   pre: is a block of code that sets up the problem\n",
    "#   que*: is the quiz question with multiple choice response \n",
    "#   mul*: is the multiple choice \n",
    "#   ans: is the player's answer, True/False\n",
    "#   eva: is the evaluation \n",
    "#   con*: is the concept\n",
    "# Function has the boilerplate in which to plug \"pre\" and \"eva\" as in the example.\n",
    "    # Print the set-up\n",
    "    introduction = \"\" \n",
    "    if pre is not None:\n",
    "        if run:\n",
    "            exec(pre)\n",
    "        introduction += pre\n",
    "    print introduction\n",
    "    \n",
    "    # Print the question\n",
    "    question = \"\\nWhat does the code snippet do:\\n\" \n",
    "    question += que\n",
    "    print question\n",
    "    \n",
    "    # Get the student's response\n",
    "    for mul_ID, mul_string in mul.items():\n",
    "        print \"[%r] %r\" % (mul_ID, mul_string['dat'])\n",
    "    ans = raw_input(\"> \")\n",
    "    eva = mul.get(ans, {}).get('ans', {})\n",
    "    \n",
    "    # Evaluate and tell concept\n",
    "    if eva == {}:\n",
    "        print \"\\nYou have not entered a meaningful response.\"\n",
    "    elif eva:\n",
    "        print \"\\nThat is the correct answer. \" + con\n",
    "    else:\n",
    "        print \"\\nThat is incorrect. \" + con\n",
    "        \n",
    "# Sample\n",
    "# pre should be all the code you want to execute\n",
    "pre = \"\"\"\n",
    "zoo = [\"elephant\", \"hippopotamus\", \"penguin\"]\n",
    "del zoo[1]\n",
    "\"\"\"\n",
    "# mul should have all options in multiple choice format\n",
    "que = \"zoo\"\n",
    "mul = {\n",
    "    'A': {\n",
    "            'dat': [\"elephant\", \"penguin\"],\n",
    "            'ans': True\n",
    "    },\n",
    "    'B': {\n",
    "            'dat': [\"hippopotamus\", \"penguin\"],\n",
    "            'ans': False\n",
    "    },\n",
    "    'C': {\n",
    "            'dat': 'Error',\n",
    "            'ans': False\n",
    "    }\n",
    "}\n",
    "con=\"Indexing starts with 0.\"\n",
    " \n",
    "multipleChoice(que=que, mul=mul, con=con, pre=pre)"
   ]
  },
  {
   "cell_type": "code",
   "execution_count": 3,
   "metadata": {},
   "outputs": [
    {
     "name": "stdout",
     "output_type": "stream",
     "text": [
      "\n",
      "amphibian = \"frog\"\n",
      "\n",
      "\n",
      "What does the code snippet do:\n",
      "amphibian[3]\n",
      "['A'] 'g'\n",
      "['C'] 'Error'\n",
      "['B'] 'o'\n",
      "> A\n",
      "\n",
      "That is the correct answer. Indexing starts with 0.\n",
      "\n",
      "zoo = [\"elephant\", \"hippopotamus\", \"penguin\", \"mouse\"]\n",
      "\n",
      "\n",
      "What does the code snippet do:\n",
      "zoo[3]\n",
      "['A'] 'mouse'\n",
      "['C'] 'Error'\n",
      "['B'] 'penguin'\n",
      "> A\n",
      "\n",
      "That is the correct answer. Indexing starts with 0.\n"
     ]
    }
   ],
   "source": [
    "# Indexing: Access any element using a numerical index.\n",
    "pre = \"\"\"\n",
    "amphibian = \"frog\"\n",
    "\"\"\"\n",
    "que = \"amphibian[3]\"\n",
    "mul = {\n",
    "    'A': {\n",
    "            'dat': \"g\",\n",
    "            'ans': True\n",
    "    },\n",
    "    'B': {\n",
    "            'dat': \"o\",\n",
    "            'ans': False\n",
    "    },\n",
    "    'C': {\n",
    "            'dat': 'Error',\n",
    "            'ans': False\n",
    "    }\n",
    "}\n",
    "con=\"Indexing starts with 0.\" \n",
    "multipleChoice(que=que, mul=mul, con=con, pre=pre)\n",
    "\n",
    "pre = \"\"\"\n",
    "zoo = [\"elephant\", \"hippopotamus\", \"penguin\", \"mouse\"]\n",
    "\"\"\"\n",
    "que = \"zoo[3]\"\n",
    "# mul should have all options in multiple choice format\n",
    "mul = {\n",
    "    'A': {\n",
    "            'dat': \"mouse\",\n",
    "            'ans': True\n",
    "    },\n",
    "    'B': {\n",
    "            'dat': \"penguin\",\n",
    "            'ans': False\n",
    "    },\n",
    "    'C': {\n",
    "            'dat': 'Error',\n",
    "            'ans': False\n",
    "    }\n",
    "}\n",
    " \n",
    "multipleChoice(que=que, mul=mul, con=con, pre=pre)"
   ]
  },
  {
   "cell_type": "code",
   "execution_count": 5,
   "metadata": {},
   "outputs": [
    {
     "name": "stdout",
     "output_type": "stream",
     "text": [
      "This quiz has 7 questions\n",
      "x='computer'\n",
      "\n",
      "\n",
      "What does the code snippet do:\n",
      "x[-3:]\n",
      "['A'] 'Error'\n",
      "['C'] 'tupmoc'\n",
      "['B'] 'ter'\n",
      "> A\n",
      "\n",
      "That is incorrect. The start position can be specified with a positive index or negative index.\n",
      "        When a positive index is specified, counting starts from zero onward from the beginning.\n",
      "        When a negative index is specified, counting starts from minus one in reverse from the end.\n",
      "        This specification extracts the last 3 items.\n",
      "\n",
      "\n",
      "What does the code snippet do:\n",
      "x[:-2]\n",
      "['A'] 'comput'\n",
      "['C'] 'Error'\n",
      "['B'] 'er'\n",
      "> A\n",
      "\n",
      "That is the correct answer. The stop position can be specified with a positive index or negative index.\n",
      "        When a positive index is specified, counting starts from zero onward from the beginning.\n",
      "        When a negative index is specified, counting starts from minus one in reverse from the end.\n",
      "        This specification extracts all but the last 2 items.\n",
      "\n",
      "\n",
      "What does the code snippet do:\n",
      "x[:5]\n",
      "['A'] 'Error'\n",
      "['C'] 'compu'\n",
      "['B'] 'comput'\n",
      "> A\n",
      "\n",
      "That is incorrect. When no start is explicitly specified, the range starts from the beginning.\n",
      "        The specification extracts items 0 through 4.\n",
      "\n",
      "\n",
      "What does the code snippet do:\n",
      "x[-1]\n",
      "['A'] 'Error'\n",
      "['C'] 'r'\n",
      "['B'] 'computer'\n",
      "> A\n",
      "\n",
      "That is incorrect. When a negative index is specified, the counting starts in reverse from the end.\n",
      "        The specification extracts the last item.\n",
      "\n",
      "\n",
      "What does the code snippet do:\n",
      "x[1:6:2]\n",
      "['A'] 'cmu'\n",
      "['C'] 'Error'\n",
      "['B'] 'opt'\n",
      "> A\n",
      "\n",
      "That is incorrect. The specification includes start, stop and step size (in that order.)\n",
      "        The specification extracts items 1, 3 and 5.\n",
      "\n",
      "\n",
      "What does the code snippet do:\n",
      "x[3:]\n",
      "['A'] 'puter'\n",
      "['C'] 'mputer'\n",
      "['B'] 'Error'\n",
      "> A\n",
      "\n",
      "That is the correct answer. When no stop is explicitly specified, the range extends to the end.\n",
      "        The specification extracts items 3 through the end.\n",
      "\n",
      "\n",
      "What does the code snippet do:\n",
      "x[1:4]\n",
      "['A'] 'ompu'\n",
      "['C'] 'comp'\n",
      "['B'] 'omp'\n",
      "> A\n",
      "\n",
      "That is incorrect. Indexing starts with zero and the range extends upto, but not including, the specified stop.\n",
      "        The specification extracts items 1 through 3.\n"
     ]
    }
   ],
   "source": [
    "# Slicing: Extract a slice of an array.\n",
    "slicing = {\n",
    "    'Question 1': {\n",
    "        'pre': \"\",\n",
    "        'que': \"x[1:4]\",\n",
    "        'mul': {\n",
    "            'A': {\n",
    "                'dat': \"ompu\",\n",
    "                'ans': False\n",
    "            },\n",
    "            'B': {\n",
    "                'dat': \"omp\",\n",
    "                'ans': True\n",
    "            },\n",
    "            'C': {\n",
    "                'dat': 'comp',\n",
    "                'ans': False\n",
    "            }\n",
    "        },\n",
    "        'con': \"\"\"Indexing starts with zero and the range extends upto, but not including, the specified stop.\n",
    "        The specification extracts items 1 through 3.\"\"\"\n",
    "    },\n",
    "    'Question 2': {\n",
    "        'pre': \"\",\n",
    "        'que': \"x[1:6:2]\",\n",
    "        'mul': {\n",
    "            'A': {\n",
    "                'dat': \"cmu\",\n",
    "                'ans': False\n",
    "            },\n",
    "            'B': {\n",
    "                'dat': \"opt\",\n",
    "                'ans': True\n",
    "            },\n",
    "            'C': {\n",
    "                'dat': 'Error',\n",
    "                'ans': False\n",
    "            }\n",
    "        },\n",
    "        'con': \"\"\"The specification includes start, stop and step size (in that order.)\n",
    "        The specification extracts items 1, 3 and 5.\"\"\"\n",
    "    },\n",
    "    'Question 3': {\n",
    "        'pre': \"\",\n",
    "        'que': \"x[3:]\",\n",
    "        'mul': {\n",
    "            'A': {\n",
    "                'dat': \"puter\",\n",
    "                'ans': True\n",
    "            },\n",
    "            'B': {\n",
    "                'dat': \"Error\",\n",
    "                'ans': False\n",
    "            },\n",
    "            'C': {\n",
    "                'dat': \"mputer\",\n",
    "                'ans': False\n",
    "            }\n",
    "        },\n",
    "        'con': \"\"\"When no stop is explicitly specified, the range extends to the end.\n",
    "        The specification extracts items 3 through the end.\"\"\"\n",
    "    },\n",
    "    'Question 4': {\n",
    "        'pre': \"\",\n",
    "        'que': \"x[:5]\",\n",
    "        'mul': {\n",
    "            'A': {\n",
    "                'dat': \"Error\",\n",
    "                'ans': False\n",
    "            },\n",
    "            'B': {\n",
    "                'dat': \"comput\",\n",
    "                'ans': False\n",
    "            },\n",
    "            'C': {\n",
    "                'dat': \"compu\",\n",
    "                'ans': True\n",
    "            }\n",
    "        },\n",
    "        'con': \"\"\"When no start is explicitly specified, the range starts from the beginning.\n",
    "        The specification extracts items 0 through 4.\"\"\"\n",
    "    },\n",
    "    'Question 5': {\n",
    "        'pre': \"\",\n",
    "        'que': \"x[-1]\",\n",
    "        'mul': {\n",
    "            'A': {\n",
    "                'dat': \"Error\",\n",
    "                'ans': False\n",
    "            },\n",
    "            'B': {\n",
    "                'dat': \"computer\",\n",
    "                'ans': False\n",
    "            },\n",
    "            'C': {\n",
    "                'dat': \"r\",\n",
    "                'ans': True\n",
    "            }\n",
    "        },\n",
    "        'con': \"\"\"When a negative index is specified, the counting starts in reverse from the end.\n",
    "        The specification extracts the last item.\"\"\"\n",
    "    },\n",
    "    'Question 6': {\n",
    "        'pre': \"\",\n",
    "        'que': \"x[-3:]\",\n",
    "        'mul': {\n",
    "            'A': {\n",
    "                'dat': \"Error\",\n",
    "                'ans': False\n",
    "            },\n",
    "            'B': {\n",
    "                'dat': \"ter\",\n",
    "                'ans': True\n",
    "            },\n",
    "            'C': {\n",
    "                'dat': \"tupmoc\",\n",
    "                'ans': False\n",
    "            }\n",
    "        },\n",
    "        'con': \"\"\"The start position can be specified with a positive index or negative index.\n",
    "        When a positive index is specified, counting starts from zero onward from the beginning.\n",
    "        When a negative index is specified, counting starts from minus one in reverse from the end.\n",
    "        This specification extracts the last 3 items.\"\"\"\n",
    "    },\n",
    "    'Question 7': {\n",
    "        'pre': \"\",\n",
    "        'que': \"x[:-2]\",\n",
    "        'mul': {\n",
    "            'A': {\n",
    "                'dat': \"comput\",\n",
    "                'ans': True\n",
    "            },\n",
    "            'B': {\n",
    "                'dat': \"er\",\n",
    "                'ans': False\n",
    "            },\n",
    "            'C': {\n",
    "                'dat': \"Error\",\n",
    "                'ans': False\n",
    "            }\n",
    "        },\n",
    "        'con': \"\"\"The stop position can be specified with a positive index or negative index.\n",
    "        When a positive index is specified, counting starts from zero onward from the beginning.\n",
    "        When a negative index is specified, counting starts from minus one in reverse from the end.\n",
    "        This specification extracts all but the last 2 items.\"\"\"\n",
    "    }      \n",
    "}\n",
    "\n",
    "print \"This quiz has %r questions\" % len(slicing)\n",
    "print \"x='computer'\"\n",
    "for key, val in slicing.iteritems():\n",
    "    multipleChoice(pre=val['pre'], que=val['que'], mul=val['mul'], con=val['con'])"
   ]
  },
  {
   "cell_type": "code",
   "execution_count": 6,
   "metadata": {},
   "outputs": [
    {
     "name": "stdout",
     "output_type": "stream",
     "text": [
      "This quiz has 2 questions\n",
      "\n",
      "\n",
      "\n",
      "What does the code snippet do:\n",
      "['Penguin', 'Two-Face'] + ['Scarecrow']\n",
      "['A'] \"['Penguin Scarecrow', 'Two-Face Scarecrow']\"\n",
      "['C'] \"['Penguin', 'Two-Face', 'Scarecrow']\"\n",
      "['B'] 'Error'\n",
      "> C\n",
      "\n",
      "That is the correct answer. Use the '+' operator (addition) to concatenate two lists.\n",
      "\n",
      "\n",
      "What does the code snippet do:\n",
      "'horse' + 'shoe'\n",
      "['A'] 'Error'\n",
      "['C'] 'horseshoe'\n",
      "['B'] 'horse shoe'\n",
      "> C\n",
      "\n",
      "That is the correct answer. Use the '+' operator (addition) to concatenate two strings.\n"
     ]
    }
   ],
   "source": [
    "# Concatenation: Join two lists or strings\n",
    "concatenation = {\n",
    "    'Question 1': {\n",
    "        'pre': \"\",\n",
    "        'que': \"'horse' + 'shoe'\",\n",
    "        'mul': {\n",
    "            'A': {\n",
    "                'dat': \"Error\",\n",
    "                'ans': False\n",
    "            },\n",
    "            'B': {\n",
    "                'dat': \"horse shoe\",\n",
    "                'ans': False\n",
    "            },\n",
    "            'C': {\n",
    "                'dat': \"horseshoe\",\n",
    "                'ans': True\n",
    "            }\n",
    "        },\n",
    "        'con': \"\"\"Use the '+' operator (addition) to concatenate two strings.\"\"\"\n",
    "    },\n",
    "    'Question 2': {\n",
    "        'pre': \"\",\n",
    "        'que': \"['Penguin', 'Two-Face'] + ['Scarecrow']\",\n",
    "        'mul': {\n",
    "            'A': {\n",
    "                'dat': \"['Penguin Scarecrow', 'Two-Face Scarecrow']\",\n",
    "                'ans': False\n",
    "            },\n",
    "            'B': {\n",
    "                'dat': \"Error\",\n",
    "                'ans': False\n",
    "            },\n",
    "            'C': {\n",
    "                'dat': \"['Penguin', 'Two-Face', 'Scarecrow']\",\n",
    "                'ans': True\n",
    "            }\n",
    "        },\n",
    "        'con': \"\"\"Use the '+' operator (addition) to concatenate two lists.\"\"\"\n",
    "    }\n",
    "}\n",
    "\n",
    "print \"This quiz has %r questions\" % len(concatenation)\n",
    "print \"\"\n",
    "for key, val in concatenation.iteritems():\n",
    "    multipleChoice(pre=val['pre'], que=val['que'], mul=val['mul'], con=val['con'])"
   ]
  },
  {
   "cell_type": "code",
   "execution_count": 7,
   "metadata": {},
   "outputs": [
    {
     "name": "stdout",
     "output_type": "stream",
     "text": [
      "This quiz has 2 questions\n",
      "\n",
      "\n",
      "\n",
      "What does the code snippet do:\n",
      "['Heart', 'Spade', 'Club'] * 2\n",
      "['A'] 'Error'\n",
      "['C'] \"['Heart', 'Heart', 'Spade', 'Spade', 'Club', 'Club']\"\n",
      "['B'] ['Heart', 'Spade', 'Club', 'Heart', 'Spade', 'Club']\n",
      "> C\n",
      "\n",
      "That is incorrect. Use the '*' operator (multiplication) to replicate contents of a list for a larger list.\n",
      "\n",
      "\n",
      "What does the code snippet do:\n",
      "'ATCG' * 3\n",
      "['A'] 'ATCGATCGATCG'\n",
      "['C'] 'Error'\n",
      "['B'] 'AAATTTCCCGGG'\n",
      "> A\n",
      "\n",
      "That is the correct answer. Use the '*' operator (multiplication) to replicate a string.\n"
     ]
    }
   ],
   "source": [
    "# Replication: Repeat elements in a patter for a list or string\n",
    "replication = {\n",
    "    'Question 1': {\n",
    "        'pre': \"\",\n",
    "        'que': \"'ATCG' * 3\",\n",
    "        'mul': {\n",
    "            'A': {\n",
    "                'dat': \"ATCGATCGATCG\",\n",
    "                'ans': True\n",
    "            },\n",
    "            'B': {\n",
    "                'dat': \"AAATTTCCCGGG\",\n",
    "                'ans': False\n",
    "            },\n",
    "            'C': {\n",
    "                'dat': \"Error\",\n",
    "                'ans': False\n",
    "            }\n",
    "        },\n",
    "        'con': \"\"\"Use the '*' operator (multiplication) to replicate a string.\"\"\"\n",
    "    },\n",
    "    'Question 2': {\n",
    "        'pre': \"\",\n",
    "        'que': \"['Heart', 'Spade', 'Club'] * 2\",\n",
    "        'mul': {\n",
    "            'A': {\n",
    "                'dat': \"Error\",\n",
    "                'ans': False\n",
    "            },\n",
    "            'B': {\n",
    "                'dat': ['Heart', 'Spade', 'Club', 'Heart', 'Spade', 'Club'],\n",
    "                'ans': True\n",
    "            },\n",
    "            'C': {\n",
    "                'dat': \"['Heart', 'Heart', 'Spade', 'Spade', 'Club', 'Club']\",\n",
    "                'ans': False\n",
    "            }\n",
    "        },\n",
    "        'con': \"\"\"Use the '*' operator (multiplication) to replicate contents of a list for a larger list.\"\"\"\n",
    "    }\n",
    "}\n",
    "\n",
    "print \"This quiz has %r questions\" % len(replication)\n",
    "print \"\"\n",
    "for key, val in replication.iteritems():\n",
    "    multipleChoice(pre=val['pre'], que=val['que'], mul=val['mul'], con=val['con'])"
   ]
  },
  {
   "cell_type": "code",
   "execution_count": 47,
   "metadata": {},
   "outputs": [
    {
     "name": "stdout",
     "output_type": "stream",
     "text": [
      "This quiz has 5 questions\n",
      "\n",
      "x = 'penguin'\n",
      "zoo = [\"elephant\", \"hippopotamus\", \"penguin\", \"mouse\"]\n",
      "\n",
      "\n",
      "\n",
      "What does the code snippet do:\n",
      "['mouse', 'elephant'] in zoo\n",
      "['A'] 'True'\n",
      "['C'] 'False'\n",
      "['B'] 'Error'\n",
      "> C\n",
      "\n",
      "That is the correct answer. Use the 'in' operator (membership) to test for membership of a list. \n",
      "        Do not use to compare lists. The correct answer is C.\n",
      "\n",
      "\n",
      "What does the code snippet do:\n",
      "'sparrow' not in zoo\n",
      "['A'] 'True'\n",
      "['C'] 'False'\n",
      "['B'] 'Error'\n",
      "> A\n",
      "\n",
      "That is the correct answer. Qualify the 'in' operator (membership) with 'not' to test for exclusion.\n",
      "        The correct asnwer is A since this 'zoo' has no 'sparrow' in it.\n",
      "\n",
      "\n",
      "What does the code snippet do:\n",
      "'uin' in x\n",
      "['A'] 'Error'\n",
      "['C'] 'True'\n",
      "['B'] 'False'\n",
      "> C\n",
      "\n",
      "That is the correct answer. Use the 'in' operator (membership) to test whether a character or string is part \n",
      "        of a bigger string. Use for characters as well as sub-strings. The correct answer is C \n",
      "        since 'uin' is in 'penguin'.\n",
      "\n",
      "\n",
      "What does the code snippet do:\n",
      "'mouse' in zoo\n",
      "['A'] 'True'\n",
      "['C'] 'False'\n",
      "['B'] 'Error'\n",
      "> A\n",
      "\n",
      "That is the correct answer. Use the 'in' operator (membership) to test for membership of a list. The correct \n",
      "        answer is A since 'zoo' is a list that includes 'mouse' in it.\n",
      "\n",
      "\n",
      "What does the code snippet do:\n",
      "'n' in x\n",
      "['A'] 'Error'\n",
      "['C'] 'True'\n",
      "['B'] 'False'\n",
      "> C\n",
      "\n",
      "That is the correct answer. Use the 'in' operator (membership) to test whether a character or string is part \n",
      "        of a bigger string. The correct answer is C since 'n' is in 'penguin'.\n"
     ]
    }
   ],
   "source": [
    "# membership\n",
    "membership = {\n",
    "    'Question 1': {\n",
    "        'pre': \"\",\n",
    "        'que': \"'n' in x\",\n",
    "        'mul': {\n",
    "            'A': {\n",
    "                'dat': \"Error\",\n",
    "                'ans': False\n",
    "            },\n",
    "            'B': {\n",
    "                'dat': \"False\",\n",
    "                'ans': False\n",
    "            },\n",
    "            'C': {\n",
    "                'dat': \"True\",\n",
    "                'ans': True\n",
    "            }\n",
    "        },\n",
    "        'con': \"\"\"Use the 'in' operator (membership) to test whether a character or string is part \n",
    "        of a bigger string. The correct answer is C since 'n' is in 'penguin'.\"\"\"\n",
    "    },\n",
    "    'Question 2': {\n",
    "        'pre': \"\",\n",
    "        'que': \"'uin' in x\",\n",
    "        'mul': {\n",
    "            'A': {\n",
    "                'dat': \"Error\",\n",
    "                'ans': False\n",
    "            },\n",
    "            'B': {\n",
    "                'dat': \"False\",\n",
    "                'ans': False\n",
    "            },\n",
    "            'C': {\n",
    "                'dat': \"True\",\n",
    "                'ans': True\n",
    "            }\n",
    "        },\n",
    "        'con': \"\"\"Use the 'in' operator (membership) to test whether a character or string is part \n",
    "        of a bigger string. Use for characters as well as sub-strings. The correct answer is C \n",
    "        since 'uin' is in 'penguin'.\"\"\"\n",
    "    },\n",
    "    'Question 3': {\n",
    "        'pre': '',\n",
    "        'que': \"'mouse' in zoo\",\n",
    "        'mul': {\n",
    "            'A': {\n",
    "                'dat': \"True\",\n",
    "                'ans': True\n",
    "            },\n",
    "            'B': {\n",
    "                'dat': \"Error\",\n",
    "                'ans': False\n",
    "            },\n",
    "            'C': {\n",
    "                'dat': \"False\",\n",
    "                'ans': False\n",
    "            }\n",
    "        },\n",
    "        'con': \"\"\"Use the 'in' operator (membership) to test for membership of a list. The correct \n",
    "        answer is A since 'zoo' is a list that includes 'mouse' in it.\"\"\"\n",
    "    },\n",
    "    'Question 4': {\n",
    "        'pre': '',\n",
    "        'que': \"['mouse', 'elephant'] in zoo\",\n",
    "        'mul': {\n",
    "            'A': {\n",
    "                'dat': \"True\",\n",
    "                'ans': False\n",
    "            },\n",
    "            'B': {\n",
    "                'dat': \"Error\",\n",
    "                'ans': False\n",
    "            },\n",
    "            'C': {\n",
    "                'dat': \"False\",\n",
    "                'ans': True\n",
    "            }\n",
    "        },\n",
    "        'con': \"\"\"Use the 'in' operator (membership) to test for membership of a list. \n",
    "        Do not use to compare lists. The correct answer is C.\"\"\"\n",
    "    },\n",
    "    'Question 5': {\n",
    "        'pre': '',\n",
    "        'que': \"'sparrow' not in zoo\",\n",
    "        'mul': {\n",
    "            'A': {\n",
    "                'dat': \"True\",\n",
    "                'ans': True\n",
    "            },\n",
    "            'B': {\n",
    "                'dat': \"Error\",\n",
    "                'ans': False\n",
    "            },\n",
    "            'C': {\n",
    "                'dat': \"False\",\n",
    "                'ans': False\n",
    "            }\n",
    "        },\n",
    "        'con': \"\"\"Qualify the 'in' operator (membership) with 'not' to test for exclusion.\n",
    "        The correct asnwer is A since this 'zoo' has no 'sparrow' in it.\"\"\"\n",
    "    }\n",
    "}\n",
    "\n",
    "print \"This quiz has %r questions\" % len(membership)\n",
    "print \"\"\"\n",
    "x = 'penguin'\n",
    "zoo = [\"elephant\", \"hippopotamus\", \"penguin\", \"mouse\"]\n",
    "\"\"\"\n",
    "for key, val in membership.iteritems():\n",
    "    multipleChoice(pre=val['pre'], que=val['que'], mul=val['mul'], con=val['con'])"
   ]
  },
  {
   "cell_type": "code",
   "execution_count": 48,
   "metadata": {},
   "outputs": [
    {
     "name": "stdout",
     "output_type": "stream",
     "text": [
      "0 elephant\n",
      "1 hippopotamus\n",
      "2 penguin\n",
      "3 mouse\n"
     ]
    }
   ],
   "source": [
    "zoo = [\"elephant\", \"hippopotamus\", \"penguin\", \"mouse\"]\n",
    "['elephant'] in zoo\n",
    "for index, item in enumerate(zoo):\n",
    "    print index, item"
   ]
  },
  {
   "cell_type": "code",
   "execution_count": 49,
   "metadata": {},
   "outputs": [
    {
     "name": "stdout",
     "output_type": "stream",
     "text": [
      "1\n",
      "0\n",
      "1\n"
     ]
    }
   ],
   "source": [
    "# Iterate over the contents of a list with for loop\n",
    "x = [7, 8, 9]\n",
    "for i in x:\n",
    "    print (i % 2)"
   ]
  },
  {
   "cell_type": "code",
   "execution_count": 50,
   "metadata": {},
   "outputs": [
    {
     "name": "stdout",
     "output_type": "stream",
     "text": [
      "(0, 7)\n",
      "(1, 8)\n",
      "(2, 9)\n"
     ]
    }
   ],
   "source": [
    "# Enumerate while iterating over the contents of a list \n",
    "x = [7, 8, 9]\n",
    "for index, item in enumerate(x):\n",
    "    print (index, item)"
   ]
  },
  {
   "cell_type": "code",
   "execution_count": 19,
   "metadata": {},
   "outputs": [
    {
     "name": "stdout",
     "output_type": "stream",
     "text": [
      "8\n",
      "3\n"
     ]
    }
   ],
   "source": [
    "# Find the length of a string or list\n",
    "x = \"sapphire\"\n",
    "print (len(x))\n",
    "y = [\"sapphire\", \"ruby\", \"agate\"]\n",
    "print (len(y))"
   ]
  },
  {
   "cell_type": "code",
   "execution_count": 33,
   "metadata": {},
   "outputs": [
    {
     "name": "stdout",
     "output_type": "stream",
     "text": [
      "b\n",
      "9\n",
      "4\n"
     ]
    }
   ],
   "source": [
    "# Find the least in a list or string\n",
    "print (min('bug'))\n",
    "print (min('bu9'))\n",
    "print (min([\"badger\", \"owl\", \"stoat\"]))\n",
    "\n",
    "# The ordering goes by alphanumerics"
   ]
  },
  {
   "cell_type": "code",
   "execution_count": 30,
   "metadata": {},
   "outputs": [
    {
     "name": "stdout",
     "output_type": "stream",
     "text": [
      "u\n",
      "u\n",
      "stoat\n"
     ]
    }
   ],
   "source": [
    "# Find the most in a list or string\n",
    "print (max('bug'))\n",
    "print (max('bu9'))\n",
    "print (max([\"badger\", \"owl\", \"stoat\"]))\n",
    "\n",
    "# The ordering goes by alphanumerics"
   ]
  },
  {
   "cell_type": "code",
   "execution_count": 32,
   "metadata": {},
   "outputs": [
    {
     "name": "stdout",
     "output_type": "stream",
     "text": [
      "26\n",
      "18\n"
     ]
    }
   ],
   "source": [
    "# Summarize the contents of a list or a subset thereof\n",
    "x = [3, 5, 7, 11]\n",
    "print (sum(x))\n",
    "print (sum(x[-2:]))"
   ]
  },
  {
   "cell_type": "code",
   "execution_count": 35,
   "metadata": {},
   "outputs": [
    {
     "name": "stdout",
     "output_type": "stream",
     "text": [
      "['b', 'g', 'u']\n",
      "['9', 'b', 'u']\n",
      "['agate', 'ruby', 'sapphire']\n"
     ]
    }
   ],
   "source": [
    "# Sort the contents of a list or string\n",
    "print (sorted('bug'))\n",
    "print (sorted('bu9'))\n",
    "print (sorted([\"sapphire\", \"ruby\", \"agate\"]))"
   ]
  },
  {
   "cell_type": "code",
   "execution_count": 41,
   "metadata": {},
   "outputs": [
    {
     "name": "stdout",
     "output_type": "stream",
     "text": [
      "4\n",
      "2\n",
      "2\n",
      "0\n",
      "1\n"
     ]
    }
   ],
   "source": [
    "# Count the number of occurences in a list or string\n",
    "x = \"Mississippi\"\n",
    "print (x.count(\"s\"))\n",
    "print (x.count(\"is\"))\n",
    "\n",
    "# Use for a character or sub-string with strings.\n",
    "\n",
    "x = [11, 7, 5, 7]\n",
    "print (x.count(7))\n",
    "print (x.count(1))\n",
    "print (x.count(11))\n",
    "\n",
    "# When no match is found, the result is zero."
   ]
  },
  {
   "cell_type": "code",
   "execution_count": 52,
   "metadata": {},
   "outputs": [
    {
     "name": "stdout",
     "output_type": "stream",
     "text": [
      "True\n",
      "False\n"
     ]
    }
   ],
   "source": [
    "# Check for membership of a list\n",
    "print (5 in [5, 7])\n",
    "print ([5, 7] in [5, 7])\n",
    "\n",
    "# Do not compare one list with another when using 'in'."
   ]
  },
  {
   "cell_type": "code",
   "execution_count": 56,
   "metadata": {},
   "outputs": [
    {
     "name": "stdout",
     "output_type": "stream",
     "text": [
      "8\n",
      "1\n",
      "1\n"
     ]
    }
   ],
   "source": [
    "# Get the position of a character \n",
    "x = \"Mississippi\"\n",
    "print (x.index(\"p\"))\n",
    "print (x.index(\"is\"))\n",
    "\n",
    "x = [11, 7, 5, 7]\n",
    "print (x.index(7))\n",
    "\n",
    "# Returns the first match only."
   ]
  },
  {
   "cell_type": "code",
   "execution_count": 67,
   "metadata": {},
   "outputs": [
    {
     "name": "stdout",
     "output_type": "stream",
     "text": [
      "[1, 2, 3, 5, 7, 11]\n",
      "[0, 1, 2, 3, 4, 5, 6]\n",
      "[25, 36, 49]\n",
      "['1 : odd', '3 : odd', '5 : odd', '7 : odd', '9 : odd']\n"
     ]
    }
   ],
   "source": [
    "# Make or construct a list\n",
    "x = [1, 2, 3, 5, 7, 11]\n",
    "print (x)\n",
    "\n",
    "# Use list comprehension (pattern)\n",
    "x = [m for m in range(7)] \n",
    "print (x)\n",
    "\n",
    "x = [m * m for m in range(8) if m > 4]\n",
    "print (x)\n",
    "\n",
    "x = [str(m) + \" : odd\" for m in range(11) if m % 2 == 1]\n",
    "print (x)\n",
    "\n",
    "# Process a list iteratively to obtain another list.\n",
    "# Apply a filter to process only selected elements of a list to obtain a new list."
   ]
  },
  {
   "cell_type": "code",
   "execution_count": 73,
   "metadata": {},
   "outputs": [
    {
     "name": "stdout",
     "output_type": "stream",
     "text": [
      "['Bangalore', 'Dubai', 'Abu Dhabi']\n",
      "Okay now, why y'all coming to my town and disturbing all these nice folks with empty lists?!\n"
     ]
    }
   ],
   "source": [
    "# Delete and item from a list\n",
    "cities = [\"Bangalore\", \"Dubai\", \"Abu Dhabi\", \"Kochi\"]\n",
    "del(cities[3])\n",
    "print (cities)\n",
    "del(cities)\n",
    "try:\n",
    "    print(cities) # Error!\n",
    "except:\n",
    "    print \"Okay now, why y'all coming to my town and disturbing all these nice folks with empty lists?!\"\n",
    "    "
   ]
  },
  {
   "cell_type": "code",
   "execution_count": 75,
   "metadata": {},
   "outputs": [
    {
     "name": "stdout",
     "output_type": "stream",
     "text": [
      "['Bangalore', 'Panjim', 'Vishakapatnam', 'Shillong', 'Pune']\n",
      "['Bangalore', 'Panjim', 'Vishakapatnam', 'Shillong', 'Pune', 'Dubai', 'Abu Dhabi', 'Doha']\n"
     ]
    }
   ],
   "source": [
    "# Append a list or merge lists\n",
    "cities_india = [\"Bangalore\", \"Panjim\", \"Vishakapatnam\", \"Shillong\", \"Ahmedabad\"]\n",
    "cities_gulf = [\"Dubai\", \"Abu Dhabi\", \"Doha\"]\n",
    "cities_india.append(\"Pune\")\n",
    "print (cities_india)\n",
    "cities_india.extend(cities_gulf)\n",
    "print (cities_india)\n",
    "\n",
    "# Use of the functions 'append' and 'extend' modify the original list."
   ]
  },
  {
   "cell_type": "code",
   "execution_count": 84,
   "metadata": {},
   "outputs": [
    {
     "name": "stdout",
     "output_type": "stream",
     "text": [
      "['Bangalore', 'Darjeeling', 'Panjim', 'Vishakapatnam', 'Shillong', 'Ahmedabad']\n",
      "['Dubai', ['Muscat', 'Kuwait'], 'Abu Dhabi', 'Doha']\n",
      "Kuwait\n",
      "u\n"
     ]
    }
   ],
   "source": [
    "# Insert a new member at a specific position\n",
    "cities_india = [\"Bangalore\", \"Panjim\", \"Vishakapatnam\", \"Shillong\", \"Ahmedabad\"]\n",
    "cities_india.insert(1, \"Darjeeling\")\n",
    "print (cities_india)\n",
    "\n",
    "# Insert drops the payload at the specified position in a list,\n",
    "# adjusting the positions of all elements to the right of the insertion point.\n",
    "cities_gulf = [\"Dubai\", \"Abu Dhabi\", \"Doha\"]\n",
    "cities_middleEast = [\"Muscat\", \"Kuwait\"]\n",
    "cities_gulf.insert(1, cities_middleEast)\n",
    "print (cities_gulf)\n",
    "print (cities_gulf[1][1]) # Kuwait\n",
    "print (cities_gulf[0][1]) # u\n",
    "\n",
    "# A list within a list is differently structured from a merger of two lists."
   ]
  },
  {
   "cell_type": "code",
   "execution_count": 90,
   "metadata": {},
   "outputs": [
    {
     "name": "stdout",
     "output_type": "stream",
     "text": [
      "Ahmedabad\n",
      "['Bangalore', 'Panjim', 'Vishakapatnam', 'Shillong']\n"
     ]
    }
   ],
   "source": [
    "# Pop the last element of a list\n",
    "cities = [\"Bangalore\", \"Panjim\", \"Vishakapatnam\", \"Shillong\", \"Ahmedabad\"]\n",
    "\n",
    "print (cities.pop())\n",
    "print (cities)\n",
    "\n",
    "# The function pop() returns the last element after removing it from the list."
   ]
  },
  {
   "cell_type": "code",
   "execution_count": 94,
   "metadata": {},
   "outputs": [
    {
     "name": "stdout",
     "output_type": "stream",
     "text": [
      "['Bangalore', 'Vishakapatnam', 'Shillong', 'Ahmedabad']\n"
     ]
    }
   ],
   "source": [
    "# Remove an element from a list\n",
    "cities = [\"Bangalore\", \"Panjim\", \"Vishakapatnam\", \"Shillong\", \"Ahmedabad\"]\n",
    "cities.remove(\"Panjim\")\n",
    "print (cities)"
   ]
  },
  {
   "cell_type": "code",
   "execution_count": 95,
   "metadata": {},
   "outputs": [
    {
     "name": "stdout",
     "output_type": "stream",
     "text": [
      "['Ahmedabad', 'Shillong', 'Vishakapatnam', 'Panjim', 'Bangalore']\n"
     ]
    }
   ],
   "source": [
    "# Order the members of a list in reverse\n",
    "cities = [\"Bangalore\", \"Panjim\", \"Vishakapatnam\", \"Shillong\", \"Ahmedabad\"]\n",
    "cities.reverse()\n",
    "print (cities)"
   ]
  },
  {
   "cell_type": "code",
   "execution_count": 99,
   "metadata": {},
   "outputs": [
    {
     "name": "stdout",
     "output_type": "stream",
     "text": [
      "['Ahmedabad', 'Bangalore', 'Panjim', 'Shillong', 'Vishakapatnam']\n"
     ]
    }
   ],
   "source": [
    "# Rearrange the members of a list in alphanumeric order\n",
    "cities = [\"Bangalore\", \"Panjim\", \"Vishakapatnam\", \"Shillong\", \"Ahmedabad\"]\n",
    "cities.sort()\n",
    "print (cities)\n",
    "\n",
    "# The function 'sorted()' returns a new list, whereas sort is a method that modifies the original list."
   ]
  },
  {
   "cell_type": "code",
   "execution_count": 112,
   "metadata": {},
   "outputs": [
    {
     "name": "stdout",
     "output_type": "stream",
     "text": [
      "()\n",
      "(1, 2, 3)\n",
      "(1, 2, 3)\n",
      "(2,)\n",
      "(1, 2, 3)\n"
     ]
    }
   ],
   "source": [
    "# Use a tuple when the contents of a list are immutable\n",
    "# Create a tuple using any of the following ways to illustrate.\n",
    "x = ()                  # Use parentheses\n",
    "print (x)               # Create an empty tuple\n",
    "x = (1, 2, 3)           # Enclose a list of items in parentheses\n",
    "print (x)\n",
    "x = 1, 2, 3             # Just pass comma-separated items \n",
    "print (x)\n",
    "x = 2,                  # Put a comma after a single item \n",
    "print (x)\n",
    "x = tuple(range(1, 4))  # Pass a list \n",
    "print (x)\n"
   ]
  },
  {
   "cell_type": "code",
   "execution_count": 120,
   "metadata": {},
   "outputs": [
    {
     "name": "stdout",
     "output_type": "stream",
     "text": [
      "You cannot delete an element of a tuple!\n",
      "You cannot change a tuple!\n",
      "('Bhutan', ['Bangladesh', 'Nepal'], 'Sri Lanka', 'Cambodia', 'Vietnam')\n",
      "Oh my God! Bangladesh is gone!\n",
      "('Bhutan', ['Nepal'], 'Sri Lanka', 'Cambodia', 'Vietnam')\n"
     ]
    }
   ],
   "source": [
    "# Try deleting or changing an element of a tuple. An error results.\n",
    "x = (\"Bhutan\", \"Sri Lanka\", \"Cambodia\", \"Vietnam\")\n",
    "try:\n",
    "    del(x[1])\n",
    "except:\n",
    "    print (\"You cannot delete an element of a tuple!\")\n",
    "    \n",
    "try:\n",
    "    x[1] = \"Afghanistan\"\n",
    "except:\n",
    "    print (\"You cannot change a tuple!\")\n",
    "\n",
    "asia = [\"Bhutan\", \"Sri Lanka\", \"Cambodia\", \"Vietnam\"]\n",
    "asia.insert(1, [\"Bangladesh\", \"Nepal\"])\n",
    "x = tuple(asia)\n",
    "print (x)\n",
    "try:\n",
    "    del(x[1][0]) \n",
    "    print (\"Oh my God! Bangladesh is gone!\")\n",
    "except:\n",
    "    print (\"You will never delete Bangladesh!\")\n",
    "print (x)"
   ]
  },
  {
   "cell_type": "code",
   "execution_count": 125,
   "metadata": {},
   "outputs": [
    {
     "name": "stdout",
     "output_type": "stream",
     "text": [
      "set([])\n",
      "set([1, 2, 3])\n",
      "set(['Assam', 'Arunachal Pradesh', 'Goa', 'Tripura'])\n"
     ]
    }
   ],
   "source": [
    "# Use a set for a collection of unique items where the order is immaterial\n",
    "# Use one of the following ways to create a set\n",
    "x = set()       # Create an empty set\n",
    "print (x)\n",
    "x = {3, 2, 1}   # Enclose a list of items in curly braces \n",
    "print (x)\n",
    "x = [\"Goa\", \"Arunachal Pradesh\", \"Tripura\", \"Assam\"]\n",
    "x = set(x)      # Pass a list\n",
    "print (x)"
   ]
  },
  {
   "cell_type": "code",
   "execution_count": 128,
   "metadata": {},
   "outputs": [
    {
     "name": "stdout",
     "output_type": "stream",
     "text": [
      "set([0, 1])\n"
     ]
    }
   ],
   "source": [
    "# Use set comprehension to process a list and get results as a set\n",
    "\n",
    "x = {x%2 for x in range(9) if x > 4}\n",
    "print (x)\n",
    "\n",
    "# Note that the ordering is random"
   ]
  },
  {
   "cell_type": "code",
   "execution_count": 142,
   "metadata": {},
   "outputs": [
    {
     "name": "stdout",
     "output_type": "stream",
     "text": [
      "set(['Assam', 'Arunachal Pradesh', 'Goa', 'Tripura'])\n",
      "4\n",
      "Assam\n",
      "set(['Arunachal Pradesh', 'Goa', 'Tripura'])\n",
      "True\n",
      "set(['Arunachal Pradesh', 'Meghalaya', 'Goa', 'Tripura'])\n",
      "set(['Arunachal Pradesh', 'Goa', 'Tripura'])\n",
      "set([])\n"
     ]
    }
   ],
   "source": [
    "# Operate on a set \n",
    "x = {'Assam', 'Arunachal Pradesh', 'Goa', 'Tripura'}\n",
    "print (x)\n",
    "print (len(x))          # Get the length of a set\n",
    "print (x.pop())         # Pop an item randomly \n",
    "print (x)           \n",
    "x.add(\"Meghalaya\")      # Add an item\n",
    "print \"Meghalaya\" in x  # Check for inclusion/exclusion of an item\n",
    "print (x)               \n",
    "x.remove(\"Meghalaya\")   # Remove an item \n",
    "print (x)\n",
    "x.clear()               # Clean house!\n",
    "print (x)\n"
   ]
  },
  {
   "cell_type": "code",
   "execution_count": 157,
   "metadata": {},
   "outputs": [
    {
     "name": "stdout",
     "output_type": "stream",
     "text": [
      "set(['Tripura'])\n",
      "set(['Nagaland', 'Meghalaya', 'Mizoram', 'Assam', 'Manipur', 'Arunachal Pradesh', 'Tripura'])\n",
      "set(['Assam', 'Meghalaya', 'Mizoram', 'Nagaland', 'Manipur', 'Arunachal Pradesh'])\n",
      "set(['Nagaland', 'Meghalaya', 'Mizoram', 'Assam', 'Manipur', 'Arunachal Pradesh'])\n",
      "set(['Nagaland', 'Meghalaya', 'Manipur', 'Mizoram'])\n",
      "set(['Assam', 'Arunachal Pradesh'])\n",
      "False\n",
      "True\n",
      "True\n",
      "False\n"
     ]
    }
   ],
   "source": [
    "# Perform set operations with sets\n",
    "sisters2 = {\"Arunachal Pradesh\", \"Assam\", \"Tripura\"}\n",
    "sisters5 = {\"Manipur\", \"Meghalaya\", \"Mizoram\", \"Nagaland\", \"Tripura\"}\n",
    "print (sisters2 & sisters5)        # Intersection\n",
    "print (sisters2 | sisters5)        # Union\n",
    "print (sisters2 ^ sisters5)        # Symmetric difference\n",
    "print (sisters5 ^ sisters2)  \n",
    "print (sisters5 - sisters2)        # Asymmetric difference\n",
    "print (sisters2 - sisters5)\n",
    "print ({\"Meghalaya\"} <= sisters2)  # Subset (True/False)\n",
    "print ({\"Meghalaya\"} <= sisters5)\n",
    "print ({\"Meghalaya\", \"Nagaland\"} <= sisters5)\n",
    "print (sisters2 <= sisters5)\n",
    "\n",
    "\n",
    "\n"
   ]
  },
  {
   "cell_type": "code",
   "execution_count": 160,
   "metadata": {},
   "outputs": [
    {
     "name": "stdout",
     "output_type": "stream",
     "text": [
      "{'Arnav': 182.88, 'Mohammed': 149.86, 'Prakash': 167.64}\n",
      "{'Arnav': 182.88, 'Mohammed': 149.86, 'Prakash': 167.64}\n",
      "{'Prakash': 167.64, 'Mohammed': 149.86, 'Arnav': 182.88}\n"
     ]
    }
   ],
   "source": [
    "# Use a dictionary to store key-value pairs\n",
    "# Create a dictionary using any of the following methods\n",
    "x = {'Arnav':182.88, 'Prakash':167.64, 'Mohammed':149.86}\n",
    "print (x)\n",
    "x = dict([('Arnav', 182.88), ('Prakash', 167.64), ('Mohammed', 149.86)])\n",
    "print (x)\n",
    "x = dict(Arnav=182.88, Prakash=167.64, Mohammed=149.86)\n",
    "print (x)\n",
    "\n",
    "# Use a JSON syntax, \n",
    "# or use the 'dict()' function and pass a list of tuples, each with the key and value\n",
    "# or use the dict function and assig values to keys with equal sign\n",
    "\n",
    "# Entries are in random order"
   ]
  },
  {
   "cell_type": "code",
   "execution_count": 169,
   "metadata": {},
   "outputs": [
    {
     "name": "stdout",
     "output_type": "stream",
     "text": [
      "{'Arnav': 182.88, 'Mohammed': 137.16, 'Prakash': 167.64}\n",
      "{'Arnav': 182.88, 'Pascal': 121.92, 'Mohammed': 137.16, 'Prakash': 167.64}\n",
      "{'Arnav': 182.88, 'Mohammed': 137.16, 'Prakash': 167.64}\n",
      "3\n",
      "True\n",
      "False\n",
      "{}\n",
      "The whole class got eliminated!\n"
     ]
    }
   ],
   "source": [
    "x = {'Arnav': 182.88, 'Prakash': 167.64, 'Mohammed': 149.86}\n",
    "x['Mohammed'] = 137.16   # Update an item referenced by key\n",
    "print (x)           \n",
    "x['Pascal'] = 121.92     # Add an item by referencing a new key\n",
    "print (x)\n",
    "del(x['Pascal'])         # Delete an item by referencing with key\n",
    "print(x)\n",
    "print (len(x))           # Get the number of items (by key)\n",
    "print ('Arnav' in x)     # Test for inclusion or exclusion of an item referenced by key\n",
    "print ('182.88' in x)    # Only looks at keys\n",
    "x.clear()                # Clean house! \n",
    "print (x)\n",
    "del x                    # Delete the dictionary\n",
    "try:\n",
    "    print (x)\n",
    "except:\n",
    "    print (\"The whole class got eliminated!\")"
   ]
  },
  {
   "cell_type": "code",
   "execution_count": 171,
   "metadata": {},
   "outputs": [
    {
     "name": "stdout",
     "output_type": "stream",
     "text": [
      "['Arnav', 'Mohammed', 'Prakash']\n",
      "[182.88, 149.86, 167.64]\n",
      "[('Arnav', 182.88), ('Mohammed', 149.86), ('Prakash', 167.64)]\n"
     ]
    }
   ],
   "source": [
    "# Access keys and values\n",
    "x = {'Arnav': 182.88, 'Prakash': 167.64, 'Mohammed': 149.86}\n",
    "print (x.keys())     \n",
    "print (x.values())\n",
    "print (x.items())\n",
    "\n",
    "# Access the keys or values as a list/\n",
    "# Items are returned as a list of tuples."
   ]
  },
  {
   "cell_type": "code",
   "execution_count": 176,
   "metadata": {},
   "outputs": [
    {
     "name": "stdout",
     "output_type": "stream",
     "text": [
      "('Arnav', 182.88)\n",
      "('Mohammed', 149.86)\n",
      "('Prakash', 167.64)\n",
      "('Arnav', 182.88)\n",
      "('Mohammed', 149.86)\n",
      "('Prakash', 167.64)\n",
      "('Arnav', 182.88)\n",
      "('Mohammed', 149.86)\n",
      "('Prakash', 167.64)\n"
     ]
    }
   ],
   "source": [
    "# Iterate keys\n",
    "x = {'Arnav': 182.88, 'Prakash': 167.64, 'Mohammed': 149.86}\n",
    "for k in x:\n",
    "    print (k, x[k])\n",
    "# same as\n",
    "for k in x.keys():\n",
    "    print (k, x[k])\n",
    "for k, v  in x.items():\n",
    "    print (k, v)"
   ]
  },
  {
   "cell_type": "code",
   "execution_count": null,
   "metadata": {},
   "outputs": [],
   "source": []
  }
 ],
 "metadata": {
  "kernelspec": {
   "display_name": "Python 2",
   "language": "python",
   "name": "python2"
  },
  "language_info": {
   "codemirror_mode": {
    "name": "ipython",
    "version": 2
   },
   "file_extension": ".py",
   "mimetype": "text/x-python",
   "name": "python",
   "nbconvert_exporter": "python",
   "pygments_lexer": "ipython2",
   "version": "2.7.14"
  }
 },
 "nbformat": 4,
 "nbformat_minor": 2
}
