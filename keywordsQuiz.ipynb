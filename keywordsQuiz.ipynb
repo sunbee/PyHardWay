{
 "cells": [
  {
   "cell_type": "code",
   "execution_count": 1,
   "metadata": {},
   "outputs": [
    {
     "name": "stdout",
     "output_type": "stream",
     "text": [
      "What does 'True and True' evaluate to? True\n",
      "The correct answer is <True> and you wrote <True>\n"
     ]
    }
   ],
   "source": [
    "# and\n",
    "test = 'True and True'\n",
    "que = \"What does %r evaluate to? \" % test\n",
    "ans = raw_input(que)\n",
    "ans = {\n",
    "    'True': True,\n",
    "    'False': False\n",
    "}.get(ans, \"NA\")\n",
    "print \"The correct answer is <%r> and you wrote <%r>\" % (eval(test), ans)\n",
    "assert eval(test) == ans, \"Incorrect!\""
   ]
  },
  {
   "cell_type": "code",
   "execution_count": 2,
   "metadata": {},
   "outputs": [
    {
     "name": "stdout",
     "output_type": "stream",
     "text": [
      "What does 'del zoo[1]' evaluate to? A\n",
      "The correct answer is <['elephant', 'penguin']> and you wrote <['elephant', 'penguin']>\n"
     ]
    }
   ],
   "source": [
    "# del\n",
    "zoo = [\"elephant\", \"hippopotamus\", \"penguin\"]\n",
    "test = \"del zoo[1]\"\n",
    "que = \"What does %r evaluate to? \" % test\n",
    "ans = raw_input(que)\n",
    "ans = {\n",
    "    'A': [\"elephant\", \"penguin\"],\n",
    "    'B': [\"hippopotamus\", \"penguin\"],\n",
    "    'C': 'Error'\n",
    "}.get(ans, \"NA\")\n",
    "exec(test)\n",
    "print \"The correct answer is <%r> and you wrote <%r>\" % (zoo, ans)"
   ]
  },
  {
   "cell_type": "code",
   "execution_count": null,
   "metadata": {},
   "outputs": [],
   "source": [
    "# import\n",
    "import random\n",
    "randy = random.randint(1, 9)\n",
    "test = \"randy < 9\"\n",
    "que = \"What does %r evaluate to? \" % test\n",
    "ans = raw_input(que)\n",
    "ans = {\n",
    "    'True': True,\n",
    "    'False': False\n",
    "}.get(ans, \"NA\")\n",
    "print \"The correct answer is <%r> and you wrote <%r>\" % (eval(test), ans)"
   ]
  },
  {
   "cell_type": "code",
   "execution_count": 3,
   "metadata": {},
   "outputs": [
    {
     "name": "stdout",
     "output_type": "stream",
     "text": [
      "What does 'not False' evaluate to? False\n",
      "The correct answer is <True> and you wrote <False>\n"
     ]
    }
   ],
   "source": [
    "# not\n",
    "test = 'not False'\n",
    "que = \"What does %r evaluate to? \" % test\n",
    "ans = raw_input(que)\n",
    "ans = {\n",
    "    'True': True,\n",
    "    'False': False\n",
    "}.get(ans, \"NA\")\n",
    "print \"The correct answer is <%r> and you wrote <%r>\" % (eval(test), ans)"
   ]
  },
  {
   "cell_type": "code",
   "execution_count": 4,
   "metadata": {},
   "outputs": [
    {
     "name": "stdout",
     "output_type": "stream",
     "text": [
      "What does 'count == 9' evaluate to? TRUE\n",
      "The correct answer is <True> and you wrote <'NA'>\n"
     ]
    }
   ],
   "source": [
    "# while\n",
    "count=0\n",
    "while count < 9:\n",
    "    count += 1\n",
    "test = 'count == 9'\n",
    "que = \"What does %r evaluate to? \" % test\n",
    "ans = raw_input(que)\n",
    "ans = {\n",
    "    'True': True,\n",
    "    'False': False\n",
    "}.get(ans, \"NA\")\n",
    "print \"The correct answer is <%r> and you wrote <%r>\" % (eval(test), ans)"
   ]
  },
  {
   "cell_type": "code",
   "execution_count": 5,
   "metadata": {},
   "outputs": [
    {
     "name": "stdout",
     "output_type": "stream",
     "text": [
      "\n",
      "count=0\n",
      "while count < 9:\n",
      "    count += 1\n",
      "What does 'count == 9' evaluate to [True/False]? True\n",
      "The correct answer is <True> and your wrote <True>\n"
     ]
    }
   ],
   "source": [
    "def binaryChoice(test, pre=None):\n",
    "    que = \"\"\n",
    "    if pre is not None:\n",
    "        exec(pre)\n",
    "        que += pre\n",
    "    que += \"What does %r evaluate to [True/False]? \" % test\n",
    "    ans = raw_input(que)\n",
    "    ans = {\n",
    "        'True': True,\n",
    "        'False': False\n",
    "    }.get(ans, None)\n",
    "    if ans is None:\n",
    "        print \"Not a meaningul answer for a true or false question.\"\n",
    "    else:\n",
    "        print \"The correct answer is <%r> and your wrote <%r>\" % (eval(test), ans)\n",
    "\n",
    "\n",
    "        \n",
    "# Sample        \n",
    "pre = \"\"\"\n",
    "count=0\n",
    "while count < 9:\n",
    "    count += 1\n",
    "\"\"\"\n",
    "test = \"count == 9\"\n",
    "binaryChoice(test, pre)\n"
   ]
  },
  {
   "cell_type": "code",
   "execution_count": 32,
   "metadata": {},
   "outputs": [
    {
     "name": "stdout",
     "output_type": "stream",
     "text": [
      "\n",
      "import datetime as dt\n",
      "yyyymmdd = dt.date(1215, 06, 15)\n",
      "What does 'yyyymmdd.year == 1215' evaluate to [True/False]? True\n",
      "The correct answer is <True> and your wrote <True>\n"
     ]
    }
   ],
   "source": [
    "pre = \"\"\"\n",
    "import datetime as dt\n",
    "yyyymmdd = dt.date(1215, 06, 15)\n",
    "\"\"\"\n",
    "test = 'yyyymmdd.year == 1215'\n",
    "binaryChoice(test, pre)"
   ]
  },
  {
   "cell_type": "code",
   "execution_count": 42,
   "metadata": {},
   "outputs": [
    {
     "name": "stdout",
     "output_type": "stream",
     "text": [
      "\n",
      "import math\n",
      "def is_prime(number):\n",
      "    if number % 2 == 0:\n",
      "        return False\n",
      "    else:\n",
      "        for i in range(3, int(math.sqrt(number)+1), 2):\n",
      "            if number % i == 0:\n",
      "                return False\n",
      "                \n",
      "    return True\n",
      "What does 'is_prime(9)' evaluate to [True/False]? True\n",
      "The correct answer is <False> and your wrote <True>\n"
     ]
    }
   ],
   "source": [
    "# prime no.\n",
    "pre = \"\"\"\n",
    "import math\n",
    "def is_prime(number):\n",
    "    if number % 2 == 0:\n",
    "        return False\n",
    "    else:\n",
    "        for i in range(3, int(math.sqrt(number)+1), 2):\n",
    "            if number % i == 0:\n",
    "                return False\n",
    "                \n",
    "    return True\n",
    "\"\"\"\n",
    "test = 'is_prime(9)'\n",
    "binaryChoice(test, pre)"
   ]
  },
  {
   "cell_type": "code",
   "execution_count": 48,
   "metadata": {},
   "outputs": [
    {
     "name": "stdout",
     "output_type": "stream",
     "text": [
      "Got a prime 5\n",
      "Got a prime 7\n",
      "Got a prime 11\n",
      "Got a prime 13\n",
      "Got a prime 17\n",
      "Got a prime 19\n",
      "Got a prime 23\n",
      "Got a prime 29\n",
      "Got a prime 31\n",
      "Got a prime 37\n",
      "Got a prime 41\n",
      "Got a prime 43\n",
      "Got a prime 47\n",
      "Got a prime 53\n",
      "Got a prime 59\n",
      "Got a prime 61\n",
      "Got a prime 67\n",
      "Got a prime 71\n",
      "Got a prime 73\n",
      "Got a prime 79\n",
      "Got a prime 83\n",
      "Got a prime 89\n",
      "Got a prime 97\n"
     ]
    }
   ],
   "source": []
  },
  {
   "cell_type": "code",
   "execution_count": 49,
   "metadata": {},
   "outputs": [
    {
     "data": {
      "text/plain": [
       "1"
      ]
     },
     "execution_count": 49,
     "metadata": {},
     "output_type": "execute_result"
    }
   ],
   "source": [
    "\n"
   ]
  },
  {
   "cell_type": "code",
   "execution_count": null,
   "metadata": {},
   "outputs": [],
   "source": []
  }
 ],
 "metadata": {
  "kernelspec": {
   "display_name": "Python 2",
   "language": "python",
   "name": "python2"
  },
  "language_info": {
   "codemirror_mode": {
    "name": "ipython",
    "version": 2
   },
   "file_extension": ".py",
   "mimetype": "text/x-python",
   "name": "python",
   "nbconvert_exporter": "python",
   "pygments_lexer": "ipython2",
   "version": "2.7.14"
  }
 },
 "nbformat": 4,
 "nbformat_minor": 2
}
