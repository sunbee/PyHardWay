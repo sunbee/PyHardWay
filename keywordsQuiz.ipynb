{
 "cells": [
  {
   "cell_type": "code",
   "execution_count": null,
   "metadata": {},
   "outputs": [],
   "source": [
    "# and\n",
    "test = 'True and True'\n",
    "que = \"What does %r evaluate to? \" % test\n",
    "ans = raw_input(que)\n",
    "ans = {\n",
    "    'True': True,\n",
    "    'False': False\n",
    "}.get(ans, \"NA\")\n",
    "print \"The correct answer is <%r> and you wrote <%r>\" % (eval(test), ans)\n",
    "assert eval(test) == ans, \"Incorrect!\""
   ]
  },
  {
   "cell_type": "code",
   "execution_count": null,
   "metadata": {},
   "outputs": [],
   "source": [
    "# del\n",
    "zoo = [\"elephant\", \"hippopotamus\", \"penguin\"]\n",
    "test = \"del zoo[1]\"\n",
    "que = \"What does %r evaluate to? \" % test\n",
    "ans = raw_input(que)\n",
    "ans = {\n",
    "    'A': [\"elephant\", \"penguin\"],\n",
    "    'B': [\"hippopotamus\", \"penguin\"],\n",
    "    'C': 'Error'\n",
    "}.get(ans, \"NA\")\n",
    "exec(test)\n",
    "print \"The correct answer is <%r> and you wrote <%r>\" % (zoo, ans)"
   ]
  },
  {
   "cell_type": "code",
   "execution_count": null,
   "metadata": {},
   "outputs": [],
   "source": [
    "# import\n",
    "import random\n",
    "randy = random.randint(1, 9)\n",
    "test = \"randy < 9\"\n",
    "que = \"What does %r evaluate to? \" % test\n",
    "ans = raw_input(que)\n",
    "ans = {\n",
    "    'True': True,\n",
    "    'False': False\n",
    "}.get(ans, \"NA\")\n",
    "print \"The correct answer is <%r> and you wrote <%r>\" % (eval(test), ans)"
   ]
  },
  {
   "cell_type": "code",
   "execution_count": null,
   "metadata": {},
   "outputs": [],
   "source": [
    "# not\n",
    "test = 'not False'\n",
    "que = \"What does %r evaluate to? \" % test\n",
    "ans = raw_input(que)\n",
    "ans = {\n",
    "    'True': True,\n",
    "    'False': False\n",
    "}.get(ans, \"NA\")\n",
    "print \"The correct answer is <%r> and you wrote <%r>\" % (eval(test), ans)"
   ]
  },
  {
   "cell_type": "code",
   "execution_count": null,
   "metadata": {},
   "outputs": [],
   "source": [
    "# while\n",
    "count=0\n",
    "while count < 9:\n",
    "    count += 1\n",
    "test = 'count == 9'\n",
    "que = \"What does %r evaluate to? \" % test\n",
    "ans = raw_input(que)\n",
    "ans = {\n",
    "    'True': True,\n",
    "    'False': False\n",
    "}.get(ans, \"NA\")\n",
    "print \"The correct answer is <%r> and you wrote <%r>\" % (eval(test), ans)"
   ]
  },
  {
   "cell_type": "code",
   "execution_count": 19,
   "metadata": {},
   "outputs": [
    {
     "name": "stdout",
     "output_type": "stream",
     "text": [
      "\n",
      "count=0\n",
      "while count < 9:\n",
      "    count += 1\n",
      "What does 'count == 9' evaluate to [True/False]? True\n",
      "The correct answer is <True> and your wrote <True>\n"
     ]
    }
   ],
   "source": [
    "def binaryChoice(test, pre=None):\n",
    "    que = \"\"\n",
    "    if pre is not None:\n",
    "        exec(pre)\n",
    "        que += pre\n",
    "    que += \"What does %r evaluate to [True/False]? \" % test\n",
    "    ans = raw_input(que)\n",
    "    ans = {\n",
    "        'True': True,\n",
    "        'False': False\n",
    "    }.get(ans, None)\n",
    "    if ans is None:\n",
    "        print \"Not a meaningul answer for a true or false question.\"\n",
    "    else:\n",
    "        print \"The correct answer is <%r> and your wrote <%r>\" % (eval(test), ans)\n",
    "\n",
    "\n",
    "        \n",
    "# Sample        \n",
    "pre = \"\"\"\n",
    "count=0\n",
    "while count < 9:\n",
    "    count += 1\n",
    "\"\"\"\n",
    "test = \"count == 9\"\n",
    "binaryChoice(test, pre)\n"
   ]
  },
  {
   "cell_type": "code",
   "execution_count": 32,
   "metadata": {},
   "outputs": [
    {
     "name": "stdout",
     "output_type": "stream",
     "text": [
      "\n",
      "import datetime as dt\n",
      "yyyymmdd = dt.date(1215, 06, 15)\n",
      "What does 'yyyymmdd.year == 1215' evaluate to [True/False]? True\n",
      "The correct answer is <True> and your wrote <True>\n"
     ]
    }
   ],
   "source": [
    "pre = \"\"\"\n",
    "import datetime as dt\n",
    "yyyymmdd = dt.date(1215, 06, 15)\n",
    "\"\"\"\n",
    "test = 'yyyymmdd.year == 1215'\n",
    "binaryChoice(test, pre)"
   ]
  },
  {
   "cell_type": "code",
   "execution_count": 22,
   "metadata": {},
   "outputs": [
    {
     "ename": "ImportError",
     "evalue": "No module named datetimee",
     "output_type": "error",
     "traceback": [
      "\u001b[1;31m---------------------------------------------------------------------------\u001b[0m",
      "\u001b[1;31mImportError\u001b[0m                               Traceback (most recent call last)",
      "\u001b[1;32m<ipython-input-22-f8b29cb97940>\u001b[0m in \u001b[0;36m<module>\u001b[1;34m()\u001b[0m\n\u001b[0;32m      1\u001b[0m \u001b[1;33m\u001b[0m\u001b[0m\n\u001b[1;32m----> 2\u001b[1;33m \u001b[1;32mimport\u001b[0m \u001b[0mdatetimee\u001b[0m\u001b[1;33m\u001b[0m\u001b[0m\n\u001b[0m",
      "\u001b[1;31mImportError\u001b[0m: No module named datetimee"
     ]
    }
   ],
   "source": [
    "\n"
   ]
  },
  {
   "cell_type": "code",
   "execution_count": 30,
   "metadata": {},
   "outputs": [
    {
     "name": "stdout",
     "output_type": "stream",
     "text": [
      "True\n"
     ]
    }
   ],
   "source": [
    "\n"
   ]
  },
  {
   "cell_type": "code",
   "execution_count": null,
   "metadata": {},
   "outputs": [],
   "source": []
  }
 ],
 "metadata": {
  "kernelspec": {
   "display_name": "Python 2",
   "language": "python",
   "name": "python2"
  },
  "language_info": {
   "codemirror_mode": {
    "name": "ipython",
    "version": 2
   },
   "file_extension": ".py",
   "mimetype": "text/x-python",
   "name": "python",
   "nbconvert_exporter": "python",
   "pygments_lexer": "ipython2",
   "version": "2.7.14"
  }
 },
 "nbformat": 4,
 "nbformat_minor": 2
}
