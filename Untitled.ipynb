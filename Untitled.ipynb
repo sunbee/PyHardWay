{
 "cells": [
  {
   "cell_type": "code",
   "execution_count": 1,
   "metadata": {},
   "outputs": [
    {
     "name": "stdout",
     "output_type": "stream",
     "text": [
      "Got a prime 5\n",
      "Got a prime 7\n",
      "Got a prime 11\n",
      "Got a prime 13\n",
      "Got a prime 17\n",
      "Got a prime 19\n",
      "Got a prime 23\n",
      "Got a prime 29\n",
      "Got a prime 31\n",
      "Got a prime 37\n",
      "Got a prime 41\n",
      "Got a prime 43\n",
      "Got a prime 47\n",
      "Got a prime 53\n",
      "Got a prime 59\n",
      "Got a prime 61\n",
      "Got a prime 67\n",
      "Got a prime 71\n",
      "Got a prime 73\n",
      "Got a prime 79\n",
      "Got a prime 83\n",
      "Got a prime 89\n",
      "Got a prime 97\n"
     ]
    }
   ],
   "source": [
    "# generator\n",
    "def get_primes(input_list):\n",
    "    return (element for element in input_list if is_prime(element))\n",
    "\n",
    "import math\n",
    "def is_prime(number):\n",
    "    if number % 2 == 0:\n",
    "        return False\n",
    "    else:\n",
    "        for i in range(3, int(math.sqrt(number)+1), 2):\n",
    "            if number % i == 0:\n",
    "                return False\n",
    "                \n",
    "    return True\n",
    "\n",
    "primo = get_primes(range(0, 100))\n",
    "next(primo)\n",
    "next(primo)\n",
    "\n",
    "for i in primo:\n",
    "    print \"Got a prime %r\" % i\n",
    "    "
   ]
  },
  {
   "cell_type": "code",
   "execution_count": null,
   "metadata": {},
   "outputs": [],
   "source": []
  }
 ],
 "metadata": {
  "kernelspec": {
   "display_name": "Python 2",
   "language": "python",
   "name": "python2"
  },
  "language_info": {
   "codemirror_mode": {
    "name": "ipython",
    "version": 2
   },
   "file_extension": ".py",
   "mimetype": "text/x-python",
   "name": "python",
   "nbconvert_exporter": "python",
   "pygments_lexer": "ipython2",
   "version": "2.7.14"
  }
 },
 "nbformat": 4,
 "nbformat_minor": 2
}
