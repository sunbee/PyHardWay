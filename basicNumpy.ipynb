{
 "cells": [
  {
   "cell_type": "code",
   "execution_count": 1,
   "metadata": {},
   "outputs": [],
   "source": [
    "# Numpy Arrays\n",
    "\n",
    "import numpy as np"
   ]
  },
  {
   "cell_type": "code",
   "execution_count": 21,
   "metadata": {},
   "outputs": [
    {
     "name": "stdout",
     "output_type": "stream",
     "text": [
      "[3 2 1]\n",
      "[1 3 5]\n",
      "[1.  2.2 3.4 4.6 5.8 7. ]\n",
      "[[1.  2.2]\n",
      " [3.4 4.6]\n",
      " [5.8 7. ]]\n",
      "[[1.  2.2]\n",
      " [3.4 4.6]\n",
      " [5.8 7. ]]\n",
      "6\n",
      "float64\n",
      "8\n",
      "[[1 2 3]\n",
      " [4 5 6]]\n",
      "[[1 2 3]\n",
      " [4 5 6]]\n"
     ]
    }
   ],
   "source": [
    "# Create a Numpy array \n",
    "x = np.array([3, 2, 1])  # Pass a list\n",
    "print (x)\n",
    "x = np.arange(1, 7, 2)   # Use the 'arange()' function - from, to, step\n",
    "print (x)\n",
    "x = np.linspace(1, 7, 6) # Use the 'linspace()' function - from, to, size\n",
    "print (x)\n",
    "print (x.reshape(3, 2))\n",
    "x = x.reshape(3, 2)      # Explicit reassignment is required\n",
    "print (x)\n",
    "print (x.size)           # The function 'size()' doesn't care about the shape\n",
    "print (x.dtype)          # Get the storage type\n",
    "print (x.itemsize)       # How much storage size (in bytes) does a single unit take up\n",
    "\n"
   ]
  },
  {
   "cell_type": "code",
   "execution_count": 24,
   "metadata": {},
   "outputs": [
    {
     "name": "stdout",
     "output_type": "stream",
     "text": [
      "[[1 2 3]\n",
      " [4 5 6]]\n",
      "[[1 2 3]\n",
      " [4 5 6]]\n",
      "[[1 2 3]\n",
      " [4 5 6]]\n"
     ]
    }
   ],
   "source": [
    "# Create a Numpy array in multiple dimensions\n",
    "x = np.array([[1, 2, 3,],\n",
    "              [4, 5, 6]])  # Use multiple lists\n",
    "print (x)                  \n",
    "x = np.array([(1, 2, 3), \n",
    "              (4, 5, 6)]) # Group by parentheses\n",
    "print (x)\n",
    "x = np.arange(1, 7, 1)     \n",
    "x = x.reshape(2, 3)       # Reshape a linear list\n",
    "print (x)"
   ]
  },
  {
   "cell_type": "code",
   "execution_count": 26,
   "metadata": {},
   "outputs": [
    {
     "name": "stdout",
     "output_type": "stream",
     "text": [
      "[[False False False False False False False  True  True]\n",
      " [ True  True  True  True  True  True  True  True  True]\n",
      " [ True  True  True  True  True  True  True  True  True]\n",
      " [ True  True  True  True  True  True  True  True  True]]\n"
     ]
    }
   ],
   "source": [
    "# Mask by pass or fail criteria (binary mask)\n",
    "x = np.arange(1, 37, 1)\n",
    "x = x.reshape(4, 9)\n",
    "print (x > 7)"
   ]
  },
  {
   "cell_type": "code",
   "execution_count": 28,
   "metadata": {},
   "outputs": [
    {
     "name": "stdout",
     "output_type": "stream",
     "text": [
      "[[1 0 1 0 1 0 1 0 1]\n",
      " [0 1 0 1 0 1 0 1 0]\n",
      " [1 0 1 0 1 0 1 0 1]\n",
      " [0 1 0 1 0 1 0 1 0]]\n",
      "[[1 0 1 0 1 0 1 0 1]\n",
      " [0 1 0 1 0 1 0 1 0]\n",
      " [1 0 1 0 1 0 1 0 1]\n",
      " [0 1 0 1 0 1 0 1 0]]\n"
     ]
    }
   ],
   "source": [
    "# Update each element of a Numpy array \n",
    "x = np.arange(1, 37, 1)\n",
    "x = x.reshape(4, 9)\n",
    "print (x % 2)   # process\n",
    "x %= 2\n",
    "print (x)       # save changes"
   ]
  },
  {
   "cell_type": "code",
   "execution_count": 39,
   "metadata": {},
   "outputs": [
    {
     "name": "stdout",
     "output_type": "stream",
     "text": [
      "[0. 0. 0. 0. 0. 0. 0. 0. 0.]\n",
      "[[0. 0. 0. 0. 0. 0. 0. 0. 0.]\n",
      " [0. 0. 0. 0. 0. 0. 0. 0. 0.]\n",
      " [0. 0. 0. 0. 0. 0. 0. 0. 0.]\n",
      " [0. 0. 0. 0. 0. 0. 0. 0. 0.]]\n",
      "You just went from hero to zero!\n",
      "[[0 0 0 0 0 0 0 0 0]\n",
      " [0 0 0 0 0 0 0 0 0]\n",
      " [0 0 0 0 0 0 0 0 0]\n",
      " [0 0 0 0 0 0 0 0 0]]\n",
      "int16\n",
      "2\n"
     ]
    }
   ],
   "source": [
    "# Create an empty Numpy array (with zeros)\n",
    "x = np.zeros(9)\n",
    "print (x)\n",
    "x = np.zeros((4, 9))\n",
    "print (x)\n",
    "try:\n",
    "    x = np.zeros(4, 9)\n",
    "except:\n",
    "    print (\"You just went from hero to zero!\")\n",
    "x = np.zeros((4, 9), dtype='int8')\n",
    "print (x)\n",
    "x = np.ones(9, dtype='int16')\n",
    "print (x.dtype)\n",
    "print (x.itemsize)\n",
    "\n",
    "        "
   ]
  },
  {
   "cell_type": "code",
   "execution_count": 54,
   "metadata": {},
   "outputs": [
    {
     "name": "stdout",
     "output_type": "stream",
     "text": [
      "[[0.67 0.41 0.61 0.32 0.64 0.97 0.43 0.73 0.73]\n",
      " [0.32 0.31 0.67 0.46 0.23 0.34 1.   0.79 0.77]\n",
      " [0.5  0.8  0.12 0.54 0.84 0.41 0.38 0.25 0.16]\n",
      " [0.18 0.82 0.93 0.96 0.41 0.82 0.19 0.31 0.21]]\n",
      "None\n",
      "[5 1 8 4 2 2 2]\n"
     ]
    }
   ],
   "source": [
    "# Create an array with random numbers\n",
    "x = np.random.random((4, 9))\n",
    "print (x)\n",
    "x = np.set_printoptions(precision=2, suppress=True)\n",
    "print (x)\n",
    "x = np.random.randint(0, 9, 7)\n",
    "print (x)"
   ]
  },
  {
   "cell_type": "code",
   "execution_count": null,
   "metadata": {},
   "outputs": [],
   "source": []
  },
  {
   "cell_type": "code",
   "execution_count": null,
   "metadata": {},
   "outputs": [],
   "source": []
  }
 ],
 "metadata": {
  "kernelspec": {
   "display_name": "Python 2",
   "language": "python",
   "name": "python2"
  },
  "language_info": {
   "codemirror_mode": {
    "name": "ipython",
    "version": 2
   },
   "file_extension": ".py",
   "mimetype": "text/x-python",
   "name": "python",
   "nbconvert_exporter": "python",
   "pygments_lexer": "ipython2",
   "version": "2.7.14"
  }
 },
 "nbformat": 4,
 "nbformat_minor": 2
}
