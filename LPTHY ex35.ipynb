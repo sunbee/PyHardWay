{
 "cells": [
  {
   "cell_type": "code",
   "execution_count": 1,
   "metadata": {},
   "outputs": [],
   "source": [
    "from sys import exit"
   ]
  },
  {
   "cell_type": "code",
   "execution_count": 2,
   "metadata": {},
   "outputs": [],
   "source": [
    "def gold_room():\n",
    "    print \"This room is full of gold. How much do you take?\"\n",
    "    \n",
    "    next = raw_input(\"> \")\n",
    "    \n",
    "    if \"0\" in next or \"1\" in next:\n",
    "        how_much = int(next)\n",
    "    else:\n",
    "        dead(\"Caballero, learn to type a number.\")\n",
    "        \n",
    "    if how_much < 50:\n",
    "        print \"You did a good job!\"\n",
    "        exit(0)\n",
    "    else:\n",
    "        dead(\"Die, greedy bastard!\")"
   ]
  },
  {
   "cell_type": "code",
   "execution_count": 3,
   "metadata": {},
   "outputs": [],
   "source": [
    "def bear_room():\n",
    "    print \"There is a bear here.\"\n",
    "    print \"The bear has a bunch of honey.\"\n",
    "    print \"The fat bear is in front of another door.\"\n",
    "    print \"How are you going to move the bear?\"\n",
    "    bear_moved = False\n",
    "    \n",
    "    while True:\n",
    "        next = raw_input(\"> \")\n",
    "        if next == \"take honey\":\n",
    "            dead(\"The bear looks at you and rips your head off!\") \n",
    "        elif next == \"taunt bear\" and not bear_moved:\n",
    "            print \"The bear has moved away from the door. Go on, you can open the door now.\"\n",
    "            bear_moved = True\n",
    "        elif next == \"taunt bear\" and bear_moved:\n",
    "            dead(\"Now you have annoyed the bear who is busy chewing your leg off.\")\n",
    "        elif next == \"open door\" and bear_moved:\n",
    "            gold_room()\n",
    "        else:\n",
    "            print \"You can stand there all day and mumble to yourself.\""
   ]
  },
  {
   "cell_type": "code",
   "execution_count": 4,
   "metadata": {},
   "outputs": [],
   "source": [
    "def cthulhu_room():\n",
    "    print \"Here you see the great evil Cthulhu.\"\n",
    "    print \"He, it, whatever stares at you and you go insane.\"\n",
    "    print \"Do you flee for yout life or eat your head?\"\n",
    "    \n",
    "    next = raw_input(\"> \")\n",
    "    \n",
    "    if \"flee\" in next:\n",
    "        start()\n",
    "    elif \"head\" in next:\n",
    "        dead(\"That was tasty!\")\n",
    "    else:\n",
    "        chtulhu_room()"
   ]
  },
  {
   "cell_type": "code",
   "execution_count": 5,
   "metadata": {},
   "outputs": [],
   "source": [
    "def dead(why):\n",
    "    print why, \"Good job!\"\n",
    "    exit(0)"
   ]
  },
  {
   "cell_type": "code",
   "execution_count": 6,
   "metadata": {},
   "outputs": [],
   "source": [
    "def start():\n",
    "    print \"You are in a dark room.\"\n",
    "    print \"There is a door to your right and left.\"\n",
    "    print \"Which door do you take?\"\n",
    "    \n",
    "    next = raw_input(\"> \")\n",
    "    try:        \n",
    "        if next == \"left\":\n",
    "            bear_room()\n",
    "        elif next == \"right\":\n",
    "            cthulhu_room()\n",
    "        else:\n",
    "            dead(\"You had your chance and you blew it.\")\n",
    "    except:\n",
    "        print \"Good bye!\""
   ]
  },
  {
   "cell_type": "code",
   "execution_count": 7,
   "metadata": {},
   "outputs": [
    {
     "name": "stdout",
     "output_type": "stream",
     "text": [
      "You are in a dark room.\n",
      "There is a door to your right and left.\n",
      "Which door do you take?\n",
      "> left\n",
      "There is a bear here.\n",
      "The bear has a bunch of honey.\n",
      "The fat bear is in front of another door.\n",
      "How are you going to move the bear?\n",
      "> open\n",
      "You can stand there all day and mumble to yourself.\n",
      "> taunt bear\n",
      "The bear has moved away from the door. Go on, you can open the door now.\n",
      "> open door\n",
      "This room is full of gold. How much do you take?\n",
      "> 41\n",
      "You did a good job!\n",
      "Good bye!\n"
     ]
    }
   ],
   "source": [
    "start()"
   ]
  },
  {
   "cell_type": "code",
   "execution_count": null,
   "metadata": {},
   "outputs": [],
   "source": []
  }
 ],
 "metadata": {
  "kernelspec": {
   "display_name": "Python 2",
   "language": "python",
   "name": "python2"
  },
  "language_info": {
   "codemirror_mode": {
    "name": "ipython",
    "version": 2
   },
   "file_extension": ".py",
   "mimetype": "text/x-python",
   "name": "python",
   "nbconvert_exporter": "python",
   "pygments_lexer": "ipython2",
   "version": "2.7.14"
  }
 },
 "nbformat": 4,
 "nbformat_minor": 2
}
